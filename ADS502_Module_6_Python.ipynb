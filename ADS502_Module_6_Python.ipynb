{
 "cells": [
  {
   "cell_type": "markdown",
   "id": "08941ca1",
   "metadata": {},
   "source": [
    "# Module 6 | Python"
   ]
  },
  {
   "cell_type": "markdown",
   "id": "14e77b85",
   "metadata": {},
   "source": [
    "### Ryan S. Dunn "
   ]
  },
  {
   "cell_type": "markdown",
   "id": "61534342",
   "metadata": {},
   "source": [
    "## Data Science Using Python and R: Chapter 10 - Page 149: Questions #11, 12, 13, & 14"
   ]
  },
  {
   "cell_type": "code",
   "execution_count": 5,
   "id": "1c421ac4",
   "metadata": {},
   "outputs": [],
   "source": [
    "#import libraries for KMeans algorithm\n",
    "import pandas as pd \n",
    "from scipy import stats\n",
    "from sklearn.cluster import KMeans"
   ]
  },
  {
   "cell_type": "code",
   "execution_count": 4,
   "id": "45676239",
   "metadata": {},
   "outputs": [],
   "source": [
    "#import the white wine training and test\n",
    "wine_train = pd.read_csv(\"/Users/ryan_s_dunn/Documents/USD MS-ADS/Applied Data Mining 502/Module 6/datasets/white_wine_training\", header = 0)\n",
    "wine_test = pd.read_csv(\"/Users/ryan_s_dunn/Documents/USD MS-ADS/Applied Data Mining 502/Module 6/datasets/white_wine_test\", header = 0)"
   ]
  },
  {
   "cell_type": "markdown",
   "id": "8b692e48",
   "metadata": {},
   "source": [
    "### 11. Input and standardize both the training and test data sets."
   ]
  },
  {
   "cell_type": "code",
   "execution_count": 14,
   "id": "b10c6f20",
   "metadata": {},
   "outputs": [],
   "source": [
    "#standardize the training and test data sets (z-score)\n",
    "wine_train_z = pd.DataFrame(stats.zscore(wine_train), columns = ['alcohol','quality','sugar'])\n",
    "wine_test_z = pd.DataFrame(stats.zscore(wine_test), columns = ['alcohol','quality','sugar'])"
   ]
  },
  {
   "cell_type": "markdown",
   "id": "42e3b595",
   "metadata": {},
   "source": [
    "### 12. Run k‐means clustering on the training data set, using two clusters."
   ]
  },
  {
   "cell_type": "code",
   "execution_count": 41,
   "id": "ce3d780b",
   "metadata": {},
   "outputs": [],
   "source": [
    "#run the k-means clustering algorithm on the training data\n",
    "kmeans01 = KMeans(n_clusters = 2).fit(wine_train_z)"
   ]
  },
  {
   "cell_type": "code",
   "execution_count": 10,
   "id": "d7db38c6",
   "metadata": {},
   "outputs": [],
   "source": [
    "#identify the cluster memebership\n",
    "cluster = kmeans01.labels_"
   ]
  },
  {
   "cell_type": "code",
   "execution_count": 11,
   "id": "84ac7fad",
   "metadata": {},
   "outputs": [],
   "source": [
    "#seperate the records into two groups based on cluster memebership\n",
    "Cluster1 = wine_train_z.loc[cluster ==0]\n",
    "Cluster2 = wine_train_z.loc[cluster ==1]"
   ]
  },
  {
   "cell_type": "markdown",
   "id": "bad53dae",
   "metadata": {},
   "source": [
    "### 13. Give the mean of each variable within each cluster and use the means to identify a “Dry wines” and a “Sweet wines” cluster."
   ]
  },
  {
   "cell_type": "code",
   "execution_count": 12,
   "id": "a7dff8ea",
   "metadata": {},
   "outputs": [
    {
     "data": {
      "text/html": [
       "<div>\n",
       "<style scoped>\n",
       "    .dataframe tbody tr th:only-of-type {\n",
       "        vertical-align: middle;\n",
       "    }\n",
       "\n",
       "    .dataframe tbody tr th {\n",
       "        vertical-align: top;\n",
       "    }\n",
       "\n",
       "    .dataframe thead th {\n",
       "        text-align: right;\n",
       "    }\n",
       "</style>\n",
       "<table border=\"1\" class=\"dataframe\">\n",
       "  <thead>\n",
       "    <tr style=\"text-align: right;\">\n",
       "      <th></th>\n",
       "      <th>alcohol</th>\n",
       "      <th>quality</th>\n",
       "      <th>sugar</th>\n",
       "    </tr>\n",
       "  </thead>\n",
       "  <tbody>\n",
       "    <tr>\n",
       "      <th>count</th>\n",
       "      <td>992.000000</td>\n",
       "      <td>992.000000</td>\n",
       "      <td>992.000000</td>\n",
       "    </tr>\n",
       "    <tr>\n",
       "      <th>mean</th>\n",
       "      <td>-0.689756</td>\n",
       "      <td>-0.553389</td>\n",
       "      <td>0.424439</td>\n",
       "    </tr>\n",
       "    <tr>\n",
       "      <th>std</th>\n",
       "      <td>0.560951</td>\n",
       "      <td>0.778523</td>\n",
       "      <td>1.068893</td>\n",
       "    </tr>\n",
       "    <tr>\n",
       "      <th>min</th>\n",
       "      <td>-1.826971</td>\n",
       "      <td>-3.252193</td>\n",
       "      <td>-1.122791</td>\n",
       "    </tr>\n",
       "    <tr>\n",
       "      <th>25%</th>\n",
       "      <td>-1.096280</td>\n",
       "      <td>-0.958094</td>\n",
       "      <td>-0.609069</td>\n",
       "    </tr>\n",
       "    <tr>\n",
       "      <th>50%</th>\n",
       "      <td>-0.824881</td>\n",
       "      <td>-0.958094</td>\n",
       "      <td>0.396970</td>\n",
       "    </tr>\n",
       "    <tr>\n",
       "      <th>75%</th>\n",
       "      <td>-0.323836</td>\n",
       "      <td>0.188956</td>\n",
       "      <td>1.210364</td>\n",
       "    </tr>\n",
       "    <tr>\n",
       "      <th>max</th>\n",
       "      <td>1.847359</td>\n",
       "      <td>2.483055</td>\n",
       "      <td>5.512788</td>\n",
       "    </tr>\n",
       "  </tbody>\n",
       "</table>\n",
       "</div>"
      ],
      "text/plain": [
       "          alcohol     quality       sugar\n",
       "count  992.000000  992.000000  992.000000\n",
       "mean    -0.689756   -0.553389    0.424439\n",
       "std      0.560951    0.778523    1.068893\n",
       "min     -1.826971   -3.252193   -1.122791\n",
       "25%     -1.096280   -0.958094   -0.609069\n",
       "50%     -0.824881   -0.958094    0.396970\n",
       "75%     -0.323836    0.188956    1.210364\n",
       "max      1.847359    2.483055    5.512788"
      ]
     },
     "execution_count": 12,
     "metadata": {},
     "output_type": "execute_result"
    }
   ],
   "source": [
    "#compute summary statistics of cluster 1\n",
    "Cluster1.describe() "
   ]
  },
  {
   "cell_type": "code",
   "execution_count": 29,
   "id": "79cd444d",
   "metadata": {},
   "outputs": [
    {
     "data": {
      "text/plain": [
       "alcohol   -0.689756\n",
       "quality   -0.553389\n",
       "sugar      0.424439\n",
       "dtype: float64"
      ]
     },
     "execution_count": 29,
     "metadata": {},
     "output_type": "execute_result"
    }
   ],
   "source": [
    "Cluster1.mean()"
   ]
  },
  {
   "cell_type": "markdown",
   "id": "4c85db25",
   "metadata": {},
   "source": [
    "Cluster1 is a sweet wine - notice the mean of the sugar attribute."
   ]
  },
  {
   "cell_type": "code",
   "execution_count": 13,
   "id": "3dd29e6e",
   "metadata": {},
   "outputs": [
    {
     "data": {
      "text/html": [
       "<div>\n",
       "<style scoped>\n",
       "    .dataframe tbody tr th:only-of-type {\n",
       "        vertical-align: middle;\n",
       "    }\n",
       "\n",
       "    .dataframe tbody tr th {\n",
       "        vertical-align: top;\n",
       "    }\n",
       "\n",
       "    .dataframe thead th {\n",
       "        text-align: right;\n",
       "    }\n",
       "</style>\n",
       "<table border=\"1\" class=\"dataframe\">\n",
       "  <thead>\n",
       "    <tr style=\"text-align: right;\">\n",
       "      <th></th>\n",
       "      <th>alcohol</th>\n",
       "      <th>quality</th>\n",
       "      <th>sugar</th>\n",
       "    </tr>\n",
       "  </thead>\n",
       "  <tbody>\n",
       "    <tr>\n",
       "      <th>count</th>\n",
       "      <td>817.000000</td>\n",
       "      <td>817.000000</td>\n",
       "      <td>817.000000</td>\n",
       "    </tr>\n",
       "    <tr>\n",
       "      <th>mean</th>\n",
       "      <td>0.837501</td>\n",
       "      <td>0.671924</td>\n",
       "      <td>-0.515353</td>\n",
       "    </tr>\n",
       "    <tr>\n",
       "      <th>std</th>\n",
       "      <td>0.744389</td>\n",
       "      <td>0.810249</td>\n",
       "      <td>0.586883</td>\n",
       "    </tr>\n",
       "    <tr>\n",
       "      <th>min</th>\n",
       "      <td>-1.075403</td>\n",
       "      <td>-2.105143</td>\n",
       "      <td>-1.101386</td>\n",
       "    </tr>\n",
       "    <tr>\n",
       "      <th>25%</th>\n",
       "      <td>0.344224</td>\n",
       "      <td>0.188956</td>\n",
       "      <td>-0.940848</td>\n",
       "    </tr>\n",
       "    <tr>\n",
       "      <th>50%</th>\n",
       "      <td>0.761762</td>\n",
       "      <td>0.188956</td>\n",
       "      <td>-0.780310</td>\n",
       "    </tr>\n",
       "    <tr>\n",
       "      <th>75%</th>\n",
       "      <td>1.429822</td>\n",
       "      <td>1.336005</td>\n",
       "      <td>-0.223777</td>\n",
       "    </tr>\n",
       "    <tr>\n",
       "      <th>max</th>\n",
       "      <td>2.891203</td>\n",
       "      <td>3.630104</td>\n",
       "      <td>2.066568</td>\n",
       "    </tr>\n",
       "  </tbody>\n",
       "</table>\n",
       "</div>"
      ],
      "text/plain": [
       "          alcohol     quality       sugar\n",
       "count  817.000000  817.000000  817.000000\n",
       "mean     0.837501    0.671924   -0.515353\n",
       "std      0.744389    0.810249    0.586883\n",
       "min     -1.075403   -2.105143   -1.101386\n",
       "25%      0.344224    0.188956   -0.940848\n",
       "50%      0.761762    0.188956   -0.780310\n",
       "75%      1.429822    1.336005   -0.223777\n",
       "max      2.891203    3.630104    2.066568"
      ]
     },
     "execution_count": 13,
     "metadata": {},
     "output_type": "execute_result"
    }
   ],
   "source": [
    "#compute summary statistics of cluster 2\n",
    "Cluster2.describe() "
   ]
  },
  {
   "cell_type": "code",
   "execution_count": 30,
   "id": "8ca6ee48",
   "metadata": {},
   "outputs": [
    {
     "data": {
      "text/plain": [
       "alcohol    0.837501\n",
       "quality    0.671924\n",
       "sugar     -0.515353\n",
       "dtype: float64"
      ]
     },
     "execution_count": 30,
     "metadata": {},
     "output_type": "execute_result"
    }
   ],
   "source": [
    "Cluster2.mean()"
   ]
  },
  {
   "cell_type": "markdown",
   "id": "f6888681",
   "metadata": {},
   "source": [
    "Cluster 2 is a dry wine - notice the mean of the sugar attribute"
   ]
  },
  {
   "cell_type": "markdown",
   "id": "536a0ac2",
   "metadata": {},
   "source": [
    "### 14. Validate the clustering results by running k‐means clustering on the test data set, using two clusters, and identifying a “Dry wines” and a “Sweet wines” cluster."
   ]
  },
  {
   "cell_type": "code",
   "execution_count": 15,
   "id": "6dc18d84",
   "metadata": {},
   "outputs": [],
   "source": [
    "#run the k-means clustering algorithm on the test data\n",
    "kmeans_test = KMeans(n_clusters = 2).fit(wine_test_z)"
   ]
  },
  {
   "cell_type": "code",
   "execution_count": 16,
   "id": "5bf9bbc6",
   "metadata": {},
   "outputs": [],
   "source": [
    "#identify the cluster memebership\n",
    "cluster_test = kmeans_test.labels_ "
   ]
  },
  {
   "cell_type": "code",
   "execution_count": 17,
   "id": "37a68712",
   "metadata": {},
   "outputs": [],
   "source": [
    "#seperate the records into two groups based on cluster memebership\n",
    "cluster1_test = wine_test_z.loc[cluster_test==0]\n",
    "cluster2_test = wine_test_z.loc[cluster_test==1]"
   ]
  },
  {
   "cell_type": "code",
   "execution_count": 27,
   "id": "1800acf7",
   "metadata": {},
   "outputs": [
    {
     "data": {
      "text/html": [
       "<div>\n",
       "<style scoped>\n",
       "    .dataframe tbody tr th:only-of-type {\n",
       "        vertical-align: middle;\n",
       "    }\n",
       "\n",
       "    .dataframe tbody tr th {\n",
       "        vertical-align: top;\n",
       "    }\n",
       "\n",
       "    .dataframe thead th {\n",
       "        text-align: right;\n",
       "    }\n",
       "</style>\n",
       "<table border=\"1\" class=\"dataframe\">\n",
       "  <thead>\n",
       "    <tr style=\"text-align: right;\">\n",
       "      <th></th>\n",
       "      <th>alcohol</th>\n",
       "      <th>quality</th>\n",
       "      <th>sugar</th>\n",
       "    </tr>\n",
       "  </thead>\n",
       "  <tbody>\n",
       "    <tr>\n",
       "      <th>count</th>\n",
       "      <td>868.000000</td>\n",
       "      <td>868.000000</td>\n",
       "      <td>868.000000</td>\n",
       "    </tr>\n",
       "    <tr>\n",
       "      <th>mean</th>\n",
       "      <td>0.756414</td>\n",
       "      <td>0.590031</td>\n",
       "      <td>-0.532449</td>\n",
       "    </tr>\n",
       "    <tr>\n",
       "      <th>std</th>\n",
       "      <td>0.777203</td>\n",
       "      <td>0.831249</td>\n",
       "      <td>0.552722</td>\n",
       "    </tr>\n",
       "    <tr>\n",
       "      <th>min</th>\n",
       "      <td>-1.432916</td>\n",
       "      <td>-2.063322</td>\n",
       "      <td>-1.068851</td>\n",
       "    </tr>\n",
       "    <tr>\n",
       "      <th>25%</th>\n",
       "      <td>0.186001</td>\n",
       "      <td>0.139557</td>\n",
       "      <td>-0.937516</td>\n",
       "    </tr>\n",
       "    <tr>\n",
       "      <th>50%</th>\n",
       "      <td>0.671676</td>\n",
       "      <td>0.139557</td>\n",
       "      <td>-0.780428</td>\n",
       "    </tr>\n",
       "    <tr>\n",
       "      <th>75%</th>\n",
       "      <td>1.400189</td>\n",
       "      <td>1.240997</td>\n",
       "      <td>-0.244785</td>\n",
       "    </tr>\n",
       "    <tr>\n",
       "      <th>max</th>\n",
       "      <td>2.776268</td>\n",
       "      <td>3.443877</td>\n",
       "      <td>1.877186</td>\n",
       "    </tr>\n",
       "  </tbody>\n",
       "</table>\n",
       "</div>"
      ],
      "text/plain": [
       "          alcohol     quality       sugar\n",
       "count  868.000000  868.000000  868.000000\n",
       "mean     0.756414    0.590031   -0.532449\n",
       "std      0.777203    0.831249    0.552722\n",
       "min     -1.432916   -2.063322   -1.068851\n",
       "25%      0.186001    0.139557   -0.937516\n",
       "50%      0.671676    0.139557   -0.780428\n",
       "75%      1.400189    1.240997   -0.244785\n",
       "max      2.776268    3.443877    1.877186"
      ]
     },
     "execution_count": 27,
     "metadata": {},
     "output_type": "execute_result"
    }
   ],
   "source": [
    "#compute summary statistics of test cluster 1\n",
    "cluster1_test.describe() #dry wine - notice sugar mean"
   ]
  },
  {
   "cell_type": "code",
   "execution_count": 31,
   "id": "69b64d9d",
   "metadata": {},
   "outputs": [
    {
     "data": {
      "text/plain": [
       "alcohol    0.756414\n",
       "quality    0.590031\n",
       "sugar     -0.532449\n",
       "dtype: float64"
      ]
     },
     "execution_count": 31,
     "metadata": {},
     "output_type": "execute_result"
    }
   ],
   "source": [
    "cluster1_test.mean()"
   ]
  },
  {
   "cell_type": "markdown",
   "id": "e7381bff",
   "metadata": {},
   "source": [
    "cluster1_test is a dry wine - notice the mean of the sugar attribute."
   ]
  },
  {
   "cell_type": "code",
   "execution_count": 40,
   "id": "3da6d4e8",
   "metadata": {},
   "outputs": [
    {
     "data": {
      "text/html": [
       "<div>\n",
       "<style scoped>\n",
       "    .dataframe tbody tr th:only-of-type {\n",
       "        vertical-align: middle;\n",
       "    }\n",
       "\n",
       "    .dataframe tbody tr th {\n",
       "        vertical-align: top;\n",
       "    }\n",
       "\n",
       "    .dataframe thead th {\n",
       "        text-align: right;\n",
       "    }\n",
       "</style>\n",
       "<table border=\"1\" class=\"dataframe\">\n",
       "  <thead>\n",
       "    <tr style=\"text-align: right;\">\n",
       "      <th></th>\n",
       "      <th>alcohol</th>\n",
       "      <th>quality</th>\n",
       "      <th>sugar</th>\n",
       "    </tr>\n",
       "  </thead>\n",
       "  <tbody>\n",
       "    <tr>\n",
       "      <th>count</th>\n",
       "      <td>892.000000</td>\n",
       "      <td>892.000000</td>\n",
       "      <td>892.000000</td>\n",
       "    </tr>\n",
       "    <tr>\n",
       "      <th>mean</th>\n",
       "      <td>-0.736062</td>\n",
       "      <td>-0.574156</td>\n",
       "      <td>0.518123</td>\n",
       "    </tr>\n",
       "    <tr>\n",
       "      <th>std</th>\n",
       "      <td>0.536420</td>\n",
       "      <td>0.796097</td>\n",
       "      <td>1.064472</td>\n",
       "    </tr>\n",
       "    <tr>\n",
       "      <th>min</th>\n",
       "      <td>-2.080483</td>\n",
       "      <td>-3.164762</td>\n",
       "      <td>-1.089453</td>\n",
       "    </tr>\n",
       "    <tr>\n",
       "      <th>25%</th>\n",
       "      <td>-1.109133</td>\n",
       "      <td>-0.961882</td>\n",
       "      <td>-0.285988</td>\n",
       "    </tr>\n",
       "    <tr>\n",
       "      <th>50%</th>\n",
       "      <td>-0.866295</td>\n",
       "      <td>-0.961882</td>\n",
       "      <td>0.414468</td>\n",
       "    </tr>\n",
       "    <tr>\n",
       "      <th>75%</th>\n",
       "      <td>-0.380620</td>\n",
       "      <td>0.139557</td>\n",
       "      <td>1.341542</td>\n",
       "    </tr>\n",
       "    <tr>\n",
       "      <th>max</th>\n",
       "      <td>1.643026</td>\n",
       "      <td>2.342437</td>\n",
       "      <td>3.298700</td>\n",
       "    </tr>\n",
       "  </tbody>\n",
       "</table>\n",
       "</div>"
      ],
      "text/plain": [
       "          alcohol     quality       sugar\n",
       "count  892.000000  892.000000  892.000000\n",
       "mean    -0.736062   -0.574156    0.518123\n",
       "std      0.536420    0.796097    1.064472\n",
       "min     -2.080483   -3.164762   -1.089453\n",
       "25%     -1.109133   -0.961882   -0.285988\n",
       "50%     -0.866295   -0.961882    0.414468\n",
       "75%     -0.380620    0.139557    1.341542\n",
       "max      1.643026    2.342437    3.298700"
      ]
     },
     "execution_count": 40,
     "metadata": {},
     "output_type": "execute_result"
    }
   ],
   "source": [
    "#compute summary statistics of test cluster 2\n",
    "cluster2_test.describe() #sweet wine - notice sugar mean"
   ]
  },
  {
   "cell_type": "code",
   "execution_count": 32,
   "id": "feb6bb0c",
   "metadata": {},
   "outputs": [
    {
     "data": {
      "text/plain": [
       "alcohol   -0.736062\n",
       "quality   -0.574156\n",
       "sugar      0.518123\n",
       "dtype: float64"
      ]
     },
     "execution_count": 32,
     "metadata": {},
     "output_type": "execute_result"
    }
   ],
   "source": [
    "cluster2_test.mean()"
   ]
  },
  {
   "cell_type": "markdown",
   "id": "1a091820",
   "metadata": {},
   "source": [
    "cluster2_test is a sweet wine - notice the mean of the sugar attribute."
   ]
  }
 ],
 "metadata": {
  "kernelspec": {
   "display_name": "Python 3",
   "language": "python",
   "name": "python3"
  },
  "language_info": {
   "codemirror_mode": {
    "name": "ipython",
    "version": 3
   },
   "file_extension": ".py",
   "mimetype": "text/x-python",
   "name": "python",
   "nbconvert_exporter": "python",
   "pygments_lexer": "ipython3",
   "version": "3.8.8"
  }
 },
 "nbformat": 4,
 "nbformat_minor": 5
}
