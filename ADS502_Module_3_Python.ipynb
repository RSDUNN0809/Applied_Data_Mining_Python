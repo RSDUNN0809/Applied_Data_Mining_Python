{
 "cells": [
  {
   "cell_type": "markdown",
   "id": "46c290e4",
   "metadata": {},
   "source": [
    "# Assignment 3.1:  Module 3 Exercise Questions | Python\n",
    "### Ryan S. Dunn | University of San Diego | M.S. Applied Data Science \n",
    "#### for detailed explainations on each question, please see the R output above"
   ]
  },
  {
   "cell_type": "code",
   "execution_count": 96,
   "id": "8617ef75",
   "metadata": {},
   "outputs": [],
   "source": [
    "import pandas as pd \n",
    "import numpy as np\n",
    "import matplotlib.pyplot as plt\n",
    "from sklearn.model_selection import train_test_split\n",
    "import random"
   ]
  },
  {
   "cell_type": "markdown",
   "id": "b9f8e131",
   "metadata": {},
   "source": [
    "## Data Science Using Python and R:  Chapter 5 - Page 78: Questions 28, 29, 30 , 31, 32, 33, 34"
   ]
  },
  {
   "cell_type": "code",
   "execution_count": 41,
   "id": "a642544a",
   "metadata": {},
   "outputs": [],
   "source": [
    "#import the data\n",
    "churn = pd.read_csv(\"/Users/ryan_s_dunn/Documents/USD MS-ADS/Applied Data Mining 502/Module 3/Datasets/Churn\", header = 0)\n",
    "#churn.head()"
   ]
  },
  {
   "cell_type": "markdown",
   "id": "59d3e395",
   "metadata": {},
   "source": [
    "### 28. Partition the data set, so that 67% of the records are included in the training data set and 33% are included in the test data set.  Use a bar graph to confirm your proportions. "
   ]
  },
  {
   "cell_type": "code",
   "execution_count": 42,
   "id": "47c80a20",
   "metadata": {},
   "outputs": [],
   "source": [
    "#partition the data set into train and test\n",
    "churn_train, churn_test = train_test_split(churn, test_size = 0.33, random_state = 7)"
   ]
  },
  {
   "cell_type": "code",
   "execution_count": 43,
   "id": "fbeeadb3",
   "metadata": {},
   "outputs": [
    {
     "name": "stdout",
     "output_type": "stream",
     "text": [
      "The total count of rows are: 3333\n"
     ]
    },
    {
     "data": {
      "image/png": "[encoded data removed]",
      "text/plain": [
       "<Figure size 432x288 with 1 Axes>"
      ]
     },
     "metadata": {
      "needs_background": "light"
     },
     "output_type": "display_data"
    }
   ],
   "source": [
    "#total data set\n",
    "churn.Churn.value_counts().plot(kind='bar', title = 'Full Churn Data')\n",
    "plt.ylabel('Number of Churns')\n",
    "plt.xlabel('Churn Status')\n",
    "print('The total count of rows are:' ,  churn.shape[0])"
   ]
  },
  {
   "cell_type": "code",
   "execution_count": 44,
   "id": "8d0fc50d",
   "metadata": {},
   "outputs": [
    {
     "name": "stdout",
     "output_type": "stream",
     "text": [
      "The total count of rows are: 2233\n"
     ]
    },
    {
     "data": {
      "image/png": "[encoded data removed]",
      "text/plain": [
       "<Figure size 432x288 with 1 Axes>"
      ]
     },
     "metadata": {
      "needs_background": "light"
     },
     "output_type": "display_data"
    }
   ],
   "source": [
    "#training barcharts\n",
    "churn_train.Churn.value_counts().plot(kind='bar', title = 'Training Churn Data')\n",
    "plt.ylabel('Number of Churns')\n",
    "plt.xlabel('Churn Status')\n",
    "print('The total count of rows are:' ,  churn_train.shape[0])"
   ]
  },
  {
   "cell_type": "code",
   "execution_count": 45,
   "id": "342bac19",
   "metadata": {},
   "outputs": [
    {
     "name": "stdout",
     "output_type": "stream",
     "text": [
      "The total count of rows are: 1100\n"
     ]
    },
    {
     "data": {
      "image/png": "[encoded data removed]",
      "text/plain": [
       "<Figure size 432x288 with 1 Axes>"
      ]
     },
     "metadata": {
      "needs_background": "light"
     },
     "output_type": "display_data"
    }
   ],
   "source": [
    "#test barcharts\n",
    "churn_test.Churn.value_counts().plot(kind='bar', title = 'Test Churn Data')\n",
    "plt.ylabel('Number of Churns')\n",
    "plt.xlabel('Churn Status')\n",
    "print('The total count of rows are:' ,  churn_test.shape[0])"
   ]
  },
  {
   "cell_type": "code",
   "execution_count": 46,
   "id": "9497e8c1",
   "metadata": {},
   "outputs": [
    {
     "name": "stdout",
     "output_type": "stream",
     "text": [
      "The training data set contains 67.0 % of the data.\n",
      "The test data set contains 33.0 % of the data.\n"
     ]
    }
   ],
   "source": [
    "#validated percentages of total data:\n",
    "print(\"The training data set contains\", round(churn_train.shape[0]/churn.shape[0] * 100 ,2),\"% of the data.\")\n",
    "print(\"The test data set contains\" , round(churn_test.shape[0]/churn.shape[0] * 100 ,2),\"% of the data.\")"
   ]
  },
  {
   "cell_type": "markdown",
   "id": "6774019d",
   "metadata": {},
   "source": [
    "### 29. Identify the total number of records in the training data set and how many records in the training data set have a churn value of true. "
   ]
  },
  {
   "cell_type": "code",
   "execution_count": 47,
   "id": "dec8c30d",
   "metadata": {},
   "outputs": [
    {
     "name": "stdout",
     "output_type": "stream",
     "text": [
      "The training data set contains 67.0 % of the data.\n"
     ]
    }
   ],
   "source": [
    "#total number of records in training data set\n",
    "print(\"The training data set contains\", round(churn_train.shape[0]/churn.shape[0] * 100 ,2),\"% of the data.\")"
   ]
  },
  {
   "cell_type": "code",
   "execution_count": 48,
   "id": "42825392",
   "metadata": {},
   "outputs": [
    {
     "name": "stdout",
     "output_type": "stream",
     "text": [
      "The training data set contains 320 records.\n"
     ]
    }
   ],
   "source": [
    "#how many records have a churn value of true\n",
    "training_churn_true = churn_train.loc[churn_train['Churn'] == True]\n",
    "print(\"The training data set contains\", round(training_churn_true.shape[0]), \"records.\")"
   ]
  },
  {
   "cell_type": "markdown",
   "id": "36664d0c",
   "metadata": {},
   "source": [
    "### 30. Use your answers from the previous exercise to calculate how many true churn records you need to resample in order to have 20% of the rebalanced data set have true churn values. "
   ]
  },
  {
   "cell_type": "code",
   "execution_count": 49,
   "id": "4ef7d80f",
   "metadata": {},
   "outputs": [
    {
     "data": {
      "text/plain": [
       "2233"
      ]
     },
     "execution_count": 49,
     "metadata": {},
     "output_type": "execute_result"
    }
   ],
   "source": [
    "#total records in training data set\n",
    "churn_train.shape[0]"
   ]
  },
  {
   "cell_type": "code",
   "execution_count": 50,
   "id": "f2c18a7a",
   "metadata": {},
   "outputs": [
    {
     "data": {
      "text/plain": [
       "False    1913\n",
       "True      320\n",
       "Name: Churn, dtype: int64"
      ]
     },
     "execution_count": 50,
     "metadata": {},
     "output_type": "execute_result"
    }
   ],
   "source": [
    "#values of True and False within training set\n",
    "churn_train['Churn'].value_counts()"
   ]
  },
  {
   "cell_type": "code",
   "execution_count": 51,
   "id": "19f6aa84",
   "metadata": {},
   "outputs": [
    {
     "name": "stdout",
     "output_type": "stream",
     "text": [
      "We need to resample 158.0 records whose response is 'True' and add them to our training set\n"
     ]
    }
   ],
   "source": [
    "#find the value of how many we need with 20 %\n",
    "n_new = round(((0.2 * churn_train.shape[0]) - training_churn_true.shape[0])/0.8,0)\n",
    "print(\"We need to resample\", n_new, \"records whose response is 'True' and add them to our training set\")"
   ]
  },
  {
   "cell_type": "markdown",
   "id": "a1eefc2e",
   "metadata": {},
   "source": [
    "### 31. Perform the rebalancing described in the previous exercies and confirm that 20% of the records in the rebalanced data set have true churn values. "
   ]
  },
  {
   "cell_type": "code",
   "execution_count": 52,
   "id": "7feb262b",
   "metadata": {},
   "outputs": [],
   "source": [
    "#isolate records we want to resample (only True Churn's)\n",
    "to_resample = churn_train.loc[churn_train['Churn'] == True]"
   ]
  },
  {
   "cell_type": "code",
   "execution_count": 53,
   "id": "91be615b",
   "metadata": {},
   "outputs": [],
   "source": [
    "#Sample from our records of interest\n",
    "our_resample = to_resample.sample(n = 158 , replace = True)"
   ]
  },
  {
   "cell_type": "code",
   "execution_count": 15,
   "id": "0afd2997",
   "metadata": {},
   "outputs": [],
   "source": [
    "#concat two data sets by putting rows on top of eachother (union)\n",
    "rebalanced_train = pd.concat([churn_train, our_resample])"
   ]
  },
  {
   "cell_type": "code",
   "execution_count": 54,
   "id": "3b540e9e",
   "metadata": {},
   "outputs": [
    {
     "data": {
      "text/plain": [
       "2391"
      ]
     },
     "execution_count": 54,
     "metadata": {},
     "output_type": "execute_result"
    }
   ],
   "source": [
    "#view the total count of records in the new data set\n",
    "rebalanced_train.shape[0]"
   ]
  },
  {
   "cell_type": "code",
   "execution_count": 55,
   "id": "9ebae77a",
   "metadata": {},
   "outputs": [
    {
     "data": {
      "text/plain": [
       "False    1913\n",
       "True      478\n",
       "Name: Churn, dtype: int64"
      ]
     },
     "execution_count": 55,
     "metadata": {},
     "output_type": "execute_result"
    }
   ],
   "source": [
    "#check new True and False values in the new rebalanced dataframe\n",
    "rebalanced_train['Churn'].value_counts()"
   ]
  },
  {
   "cell_type": "code",
   "execution_count": 56,
   "id": "0fc4f1fa",
   "metadata": {},
   "outputs": [
    {
     "data": {
      "text/plain": [
       "478"
      ]
     },
     "execution_count": 56,
     "metadata": {},
     "output_type": "execute_result"
    }
   ],
   "source": [
    "#create a dataframe of just the rebalanced True Churn values and obtain count\n",
    "total_true = rebalanced_train.loc[rebalanced_train['Churn'] == True]\n",
    "total_true.shape[0]"
   ]
  },
  {
   "cell_type": "code",
   "execution_count": 57,
   "id": "00d687ac",
   "metadata": {},
   "outputs": [
    {
     "name": "stdout",
     "output_type": "stream",
     "text": [
      "20.0 % of the data is now 'True'.\n"
     ]
    }
   ],
   "source": [
    "#validate that new percentage of data is 20%\n",
    "new_test_percentage =  total_true.shape[0]/ rebalanced_train.shape[0]\n",
    "print(round(new_test_percentage,2)*100,\"% of the data is now 'True'.\")"
   ]
  },
  {
   "cell_type": "markdown",
   "id": "08486f03",
   "metadata": {},
   "source": [
    "### 32. Which baseline model do we use to compare our classification model performance against? To which value does this baseline model assign all predictions? What is the accuracy of this model?\n",
    "<br>\n",
    "The answer is:"
   ]
  },
  {
   "cell_type": "markdown",
   "id": "067bf0b1",
   "metadata": {},
   "source": [
    "### 33. Validate your partition by testing for the difference in mean \"day minutes for the training set versus the test set. "
   ]
  },
  {
   "cell_type": "code",
   "execution_count": 58,
   "id": "84425a46",
   "metadata": {},
   "outputs": [
    {
     "name": "stdout",
     "output_type": "stream",
     "text": [
      "Rebalanced training data 'Day Mins' mean is: 181.38\n",
      "Churn test data 'Day Mins' mean is: 179.82\n"
     ]
    }
   ],
   "source": [
    "print(\"Rebalanced training data 'Day Mins' mean is:\", round(rebalanced_train['Day Mins'].mean(axis=0),2))\n",
    "print(\"Churn test data 'Day Mins' mean is:\", round(churn_test['Day Mins'].mean(axis=0),2))"
   ]
  },
  {
   "cell_type": "markdown",
   "id": "a541abc0",
   "metadata": {},
   "source": [
    "### 34. Validate your partition by testing for the difference in proportion of true churn records for the training set versus the test set. "
   ]
  },
  {
   "cell_type": "code",
   "execution_count": 95,
   "id": "d2d7c480",
   "metadata": {},
   "outputs": [],
   "source": [
    "# how do you do this?"
   ]
  },
  {
   "cell_type": "markdown",
   "id": "0cecd846",
   "metadata": {},
   "source": [
    "## Data Science Using Python and R:  Chapter 7 - Page 109:  Questions 23, 24, 25, 26, 27, 28, 29, 30"
   ]
  },
  {
   "cell_type": "markdown",
   "id": "844d22da",
   "metadata": {},
   "source": [
    "### 23. Using the training data set, create a C5.0 model (Model 1) to predict a customer's Income using Marital Status and Capital Gains Loses.  Obtain the predicted responses. "
   ]
  },
  {
   "cell_type": "code",
   "execution_count": 69,
   "id": "5cd17bb1",
   "metadata": {},
   "outputs": [],
   "source": [
    "#import libraries for analysis\n",
    "import statsmodels.tools.tools as stattools\n",
    "from sklearn.tree import DecisionTreeClassifier\n",
    "from sklearn.metrics import confusion_matrix\n",
    "from sklearn.metrics import classification_report"
   ]
  },
  {
   "cell_type": "code",
   "execution_count": 86,
   "id": "63663017",
   "metadata": {},
   "outputs": [],
   "source": [
    "#import the training data set\n",
    "training_data = pd.read_csv(trainin, header = 0)\n",
    "#training_data.head()"
   ]
  },
  {
   "cell_type": "code",
   "execution_count": 61,
   "id": "27f01b1b",
   "metadata": {},
   "outputs": [],
   "source": [
    "#set outcome variable as income\n",
    "y = training_data[['Income']]"
   ]
  },
  {
   "cell_type": "code",
   "execution_count": 62,
   "id": "af2f14e9",
   "metadata": {},
   "outputs": [
    {
     "name": "stderr",
     "output_type": "stream",
     "text": [
      "/Users/ryan_s_dunn/opt/anaconda3/lib/python3.8/site-packages/statsmodels/tools/tools.py:158: FutureWarning: categorical is deprecated. Use pandas Categorical to represent categorical data and can get_dummies to construct dummy arrays. It will be removed after release 0.13.\n",
      "  warnings.warn(\n"
     ]
    }
   ],
   "source": [
    "#create a numpy array of the different values within the Marital status attribute\n",
    "mar_np = np.array(training_data['Marital status'])\n",
    "(mar_cat, mar_cat_dict) = stattools.categorical(mar_np, drop=True, dictnames =True)"
   ]
  },
  {
   "cell_type": "code",
   "execution_count": 88,
   "id": "efb333c2",
   "metadata": {},
   "outputs": [],
   "source": [
    "mar_cat_pd = pd.DataFrame(mar_cat)\n",
    "\n",
    "#new dataframe with marital status categorical variables as numbers and capital gains/lossees\n",
    "X = pd.concat((training_data[['Cap_Gains_Losses']],mar_cat_pd), axis = 1)"
   ]
  },
  {
   "cell_type": "code",
   "execution_count": 89,
   "id": "91430fb8",
   "metadata": {},
   "outputs": [],
   "source": [
    "#assign the names back to the variables\n",
    "X_names = ['Cap_Gains_Losses', \"Divorced\", \"Married\", \"Never-married\", \"Separated\", \"Widowed\"]\n",
    "y_names = [\"<=50K\",\">50K\"]"
   ]
  },
  {
   "cell_type": "code",
   "execution_count": 65,
   "id": "07769da0",
   "metadata": {},
   "outputs": [],
   "source": [
    "#develop the C5.0 model\n",
    "model_1 = DecisionTreeClassifier(criterion = \"entropy\", max_leaf_nodes=5).fit(X,y)"
   ]
  },
  {
   "cell_type": "code",
   "execution_count": 92,
   "id": "b1286eea",
   "metadata": {},
   "outputs": [],
   "source": [
    "#predict the income variable from the mode.\n",
    "k = model_1.predict(X)"
   ]
  },
  {
   "cell_type": "code",
   "execution_count": 67,
   "id": "ab126a99",
   "metadata": {},
   "outputs": [],
   "source": [
    "#develop a C5.0 model to predict a customers Income \n",
    "X_train, X_test, y_train, y_test = train_test_split(X,y, test_size=.30, random_state=1)                              "
   ]
  },
  {
   "cell_type": "markdown",
   "id": "648d5b1c",
   "metadata": {},
   "source": [
    "### 24. Evaluate Model 1 using the test data set.  Construct a contingency table to compare the actual and predicted values of Income. "
   ]
  },
  {
   "cell_type": "code",
   "execution_count": 129,
   "id": "e791f583",
   "metadata": {},
   "outputs": [
    {
     "name": "stdout",
     "output_type": "stream",
     "text": [
      "              precision    recall  f1-score   support\n",
      "\n",
      "           0       0.75      0.92      0.83      1597\n",
      "           1       0.57      0.26      0.35       660\n",
      "\n",
      "    accuracy                           0.73      2257\n",
      "   macro avg       0.66      0.59      0.59      2257\n",
      "weighted avg       0.70      0.73      0.69      2257\n",
      "\n"
     ]
    }
   ],
   "source": [
    "#evaluate the model\n",
    "clf = DecisionTreeClassifier()\n",
    "\n",
    "clf = clf.fit(X_train,y_train)\n",
    "\n",
    "y_pred = clf.predict(X_test)\n",
    "\n",
    "print(classification_report(y_test, y_pred))"
   ]
  },
  {
   "cell_type": "code",
   "execution_count": 124,
   "id": "065012c0",
   "metadata": {},
   "outputs": [
    {
     "data": {
      "text/html": [
       "<div>\n",
       "<style scoped>\n",
       "    .dataframe tbody tr th:only-of-type {\n",
       "        vertical-align: middle;\n",
       "    }\n",
       "\n",
       "    .dataframe tbody tr th {\n",
       "        vertical-align: top;\n",
       "    }\n",
       "\n",
       "    .dataframe thead th {\n",
       "        text-align: right;\n",
       "    }\n",
       "</style>\n",
       "<table border=\"1\" class=\"dataframe\">\n",
       "  <thead>\n",
       "    <tr style=\"text-align: right;\">\n",
       "      <th></th>\n",
       "      <th>0</th>\n",
       "      <th>1</th>\n",
       "    </tr>\n",
       "  </thead>\n",
       "  <tbody>\n",
       "    <tr>\n",
       "      <th>0</th>\n",
       "      <td>1597</td>\n",
       "      <td>0</td>\n",
       "    </tr>\n",
       "    <tr>\n",
       "      <th>1</th>\n",
       "      <td>660</td>\n",
       "      <td>0</td>\n",
       "    </tr>\n",
       "  </tbody>\n",
       "</table>\n",
       "</div>"
      ],
      "text/plain": [
       "      0  1\n",
       "0  1597  0\n",
       "1   660  0"
      ]
     },
     "execution_count": 124,
     "metadata": {},
     "output_type": "execute_result"
    }
   ],
   "source": [
    "#display the confusion matrix\n",
    "cm = pd.DataFrame(confusion_matrix(y_test, y_pred))\n",
    "cm"
   ]
  },
  {
   "cell_type": "code",
   "execution_count": 147,
   "id": "0e87c9d7",
   "metadata": {},
   "outputs": [],
   "source": [
    "#totals for the corresponding metrics\n",
    "TN_1 = 1597\n",
    "TP_1 = 0 \n",
    "FN_1 = 660\n",
    "FP_1 = 0 \n",
    "GT_1 = TN_1 + TP_1 + FN_1 + TP_1\n",
    "#GT_1"
   ]
  },
  {
   "cell_type": "markdown",
   "id": "9c5c107a",
   "metadata": {},
   "source": [
    "### 25. For Model 1, recapitulate Table 7.4 from the text, calculating all of the model evaluation measures shown in the table. Call this table the Model Evaluation Table.  Leave space for Model 2. "
   ]
  },
  {
   "cell_type": "code",
   "execution_count": 155,
   "id": "162fa261",
   "metadata": {},
   "outputs": [
    {
     "data": {
      "text/html": [
       "<div>\n",
       "<style scoped>\n",
       "    .dataframe tbody tr th:only-of-type {\n",
       "        vertical-align: middle;\n",
       "    }\n",
       "\n",
       "    .dataframe tbody tr th {\n",
       "        vertical-align: top;\n",
       "    }\n",
       "\n",
       "    .dataframe thead th {\n",
       "        text-align: right;\n",
       "    }\n",
       "</style>\n",
       "<table border=\"1\" class=\"dataframe\">\n",
       "  <thead>\n",
       "    <tr style=\"text-align: right;\">\n",
       "      <th></th>\n",
       "      <th>Metrics</th>\n",
       "      <th>Module 1 Results</th>\n",
       "      <th>Module 2 Results</th>\n",
       "    </tr>\n",
       "  </thead>\n",
       "  <tbody>\n",
       "    <tr>\n",
       "      <th>0</th>\n",
       "      <td>Accuracy</td>\n",
       "      <td>0.707576</td>\n",
       "      <td>NA</td>\n",
       "    </tr>\n",
       "    <tr>\n",
       "      <th>1</th>\n",
       "      <td>Error Rate</td>\n",
       "      <td>0.292424</td>\n",
       "      <td>NA</td>\n",
       "    </tr>\n",
       "    <tr>\n",
       "      <th>2</th>\n",
       "      <td>Specificity</td>\n",
       "      <td>0.707576</td>\n",
       "      <td>NA</td>\n",
       "    </tr>\n",
       "    <tr>\n",
       "      <th>3</th>\n",
       "      <td>Precision</td>\n",
       "      <td>0.000000</td>\n",
       "      <td>NA</td>\n",
       "    </tr>\n",
       "  </tbody>\n",
       "</table>\n",
       "</div>"
      ],
      "text/plain": [
       "       Metrics  Module 1 Results Module 2 Results\n",
       "0     Accuracy          0.707576               NA\n",
       "1   Error Rate          0.292424               NA\n",
       "2  Specificity          0.707576               NA\n",
       "3    Precision          0.000000               NA"
      ]
     },
     "execution_count": 155,
     "metadata": {},
     "output_type": "execute_result"
    }
   ],
   "source": [
    "metrics = [\"Accuracy\", \"Error Rate\", \"Specificity\", \"Precision\",\"F1\"]\n",
    "m1_eval = [(TN_1 + TP_1)/GT_1, (1 - ((TN_1 + TP_1)/GT_1)), TN_1 / (TN_1 + FN_1), 0.00, 2*(0.00 * TN_1 / (TN_1 + FN_1))]\n",
    "m2_eval = ['NA','NA','NA','NA']\n",
    "\n",
    "df1 = pd.DataFrame(list(zip(metrics, m1_eval,m2_eval)),columns = ['Metrics', 'Module 1 Results', 'Module 2 Results'])\n",
    "df1"
   ]
  },
  {
   "cell_type": "markdown",
   "id": "7c41c7de",
   "metadata": {},
   "source": [
    "### 26. Clearly and completely interpret each of the Model 1 evaluation measures from the Model Evaluation Method."
   ]
  },
  {
   "cell_type": "markdown",
   "id": "9a02c343",
   "metadata": {},
   "source": [
    "For detialed explainations, see the R output. "
   ]
  },
  {
   "cell_type": "markdown",
   "id": "271c1c61",
   "metadata": {},
   "source": [
    "### 27. Create a cost matrix, called the 3x cost matrix, that specifies a false positive is four times as bad as a false negative. "
   ]
  },
  {
   "cell_type": "code",
   "execution_count": 161,
   "id": "6bc6eeee",
   "metadata": {},
   "outputs": [
    {
     "ename": "TypeError",
     "evalue": "__init__() got an unexpected keyword argument 'rows'",
     "output_type": "error",
     "traceback": [
      "\u001b[0;31m---------------------------------------------------------------------------\u001b[0m",
      "\u001b[0;31mTypeError\u001b[0m                                 Traceback (most recent call last)",
      "\u001b[0;32m<ipython-input-161-fcf8bf71eb30>\u001b[0m in \u001b[0;36m<module>\u001b[0;34m\u001b[0m\n\u001b[1;32m      1\u001b[0m \u001b[0mlist_1\u001b[0m \u001b[0;34m=\u001b[0m \u001b[0;34m[\u001b[0m\u001b[0;36m0\u001b[0m\u001b[0;34m,\u001b[0m\u001b[0;36m1\u001b[0m\u001b[0;34m,\u001b[0m\u001b[0;36m4\u001b[0m\u001b[0;34m,\u001b[0m\u001b[0;36m0\u001b[0m\u001b[0;34m]\u001b[0m\u001b[0;34m\u001b[0m\u001b[0;34m\u001b[0m\u001b[0m\n\u001b[0;32m----> 2\u001b[0;31m \u001b[0mcost_matrix\u001b[0m \u001b[0;34m=\u001b[0m \u001b[0mpd\u001b[0m\u001b[0;34m.\u001b[0m\u001b[0mDataFrame\u001b[0m\u001b[0;34m(\u001b[0m\u001b[0mlist_1\u001b[0m\u001b[0;34m,\u001b[0m \u001b[0mrows\u001b[0m \u001b[0;34m=\u001b[0m \u001b[0;36m2\u001b[0m\u001b[0;34m)\u001b[0m\u001b[0;34m\u001b[0m\u001b[0;34m\u001b[0m\u001b[0m\n\u001b[0m\u001b[1;32m      3\u001b[0m \u001b[0mcost_matrix\u001b[0m\u001b[0;34m\u001b[0m\u001b[0;34m\u001b[0m\u001b[0m\n",
      "\u001b[0;31mTypeError\u001b[0m: __init__() got an unexpected keyword argument 'rows'"
     ]
    }
   ],
   "source": [
    "list_1 = [0,1,4,0]\n",
    "cost_matrix = pd.DataFrame(list_1, rows = 2)\n",
    "cost_matrix"
   ]
  },
  {
   "cell_type": "markdown",
   "id": "e7311641",
   "metadata": {},
   "source": [
    "## Data Science using Python and R:  Chapter 8 - Page 126:  Questions 31, 32, 33, 34"
   ]
  },
  {
   "cell_type": "markdown",
   "id": "c7914f7d",
   "metadata": {},
   "source": [
    "### 31. Run the Naive Bayes classifier to classify persons as living or dead based on sex and education. "
   ]
  },
  {
   "cell_type": "code",
   "execution_count": 71,
   "id": "42973737",
   "metadata": {},
   "outputs": [],
   "source": [
    "from sklearn.naive_bayes import MultinomialNB"
   ]
  },
  {
   "cell_type": "code",
   "execution_count": 72,
   "id": "b9fe72db",
   "metadata": {},
   "outputs": [],
   "source": [
    "#training data\n",
    "death_training = pd.read_csv(\"/Users/ryan_s_dunn/Documents/USD MS-ADS/Applied Data Mining 502/Module 3/Datasets/Framingham_Training\", header = 0)\n",
    "\n",
    "#test data\n",
    "death_test = pd.read_csv(\"/Users/ryan_s_dunn/Documents/USD MS-ADS/Applied Data Mining 502/Module 3/Datasets/Framingham_Test\", header = 0)"
   ]
  },
  {
   "cell_type": "code",
   "execution_count": 93,
   "id": "f3f5e39f",
   "metadata": {},
   "outputs": [
    {
     "name": "stdout",
     "output_type": "stream",
     "text": [
      "(7953, 5)\n",
      "(2257, 5)\n"
     ]
    }
   ],
   "source": [
    "print(death_training.shape)\n",
    "print(death_test.shape)"
   ]
  },
  {
   "cell_type": "code",
   "execution_count": 97,
   "id": "66040a82",
   "metadata": {},
   "outputs": [
    {
     "data": {
      "text/html": [
       "<div>\n",
       "<style scoped>\n",
       "    .dataframe tbody tr th:only-of-type {\n",
       "        vertical-align: middle;\n",
       "    }\n",
       "\n",
       "    .dataframe tbody tr th {\n",
       "        vertical-align: top;\n",
       "    }\n",
       "\n",
       "    .dataframe thead th {\n",
       "        text-align: right;\n",
       "    }\n",
       "</style>\n",
       "<table border=\"1\" class=\"dataframe\">\n",
       "  <thead>\n",
       "    <tr style=\"text-align: right;\">\n",
       "      <th></th>\n",
       "      <th>Index</th>\n",
       "      <th>Sex</th>\n",
       "      <th>Age</th>\n",
       "      <th>Educ</th>\n",
       "      <th>Death</th>\n",
       "    </tr>\n",
       "  </thead>\n",
       "  <tbody>\n",
       "    <tr>\n",
       "      <th>0</th>\n",
       "      <td>1</td>\n",
       "      <td>1</td>\n",
       "      <td>39</td>\n",
       "      <td>4</td>\n",
       "      <td>0</td>\n",
       "    </tr>\n",
       "  </tbody>\n",
       "</table>\n",
       "</div>"
      ],
      "text/plain": [
       "   Index  Sex  Age  Educ  Death\n",
       "0      1    1   39     4      0"
      ]
     },
     "execution_count": 97,
     "metadata": {},
     "output_type": "execute_result"
    }
   ],
   "source": [
    "death_training.head(1)"
   ]
  },
  {
   "cell_type": "code",
   "execution_count": 75,
   "id": "f5d0772c",
   "metadata": {},
   "outputs": [
    {
     "data": {
      "text/plain": [
       "<AxesSubplot:title={'center':'Death Counts'}>"
      ]
     },
     "execution_count": 75,
     "metadata": {},
     "output_type": "execute_result"
    },
    {
     "data": {
      "image/png": "[encoded data removed]",
      "text/plain": [
       "<Figure size 432x288 with 1 Axes>"
      ]
     },
     "metadata": {
      "needs_background": "light"
     },
     "output_type": "display_data"
    }
   ],
   "source": [
    "#review the actual count of deaths by 0 & 1 for validation \n",
    "death_test.Death.value_counts().plot(kind='bar', title = 'Death Counts')"
   ]
  },
  {
   "cell_type": "code",
   "execution_count": 76,
   "id": "fd1d09ad",
   "metadata": {},
   "outputs": [],
   "source": [
    "#develop the training Xn and Y variables\n",
    "X_train = death_training[['Sex','Age']]\n",
    "y_train = death_training['Death']"
   ]
  },
  {
   "cell_type": "code",
   "execution_count": 77,
   "id": "74fcaabe",
   "metadata": {},
   "outputs": [],
   "source": [
    "#run the Navie Bayes algorithm\n",
    "nb = MultinomialNB(alpha = 0.5).fit(X_train, y_train)"
   ]
  },
  {
   "cell_type": "markdown",
   "id": "5f15ae6c",
   "metadata": {},
   "source": [
    "### 32. Evaluate the Naive Bayes model on the framingham_nb_test data set.  Display the results in a contingency table.  Edit the row and column names of the table to make the table more readable. Include a total row and column."
   ]
  },
  {
   "cell_type": "code",
   "execution_count": 78,
   "id": "31c44ba3",
   "metadata": {},
   "outputs": [],
   "source": [
    "#set up the x variables within the test set\n",
    "X_test = death_test[['Sex','Age']]\n",
    "y_test = death_test['Death']"
   ]
  },
  {
   "cell_type": "code",
   "execution_count": 100,
   "id": "2e612b70",
   "metadata": {},
   "outputs": [],
   "source": [
    "#predict the test variables with the Naive Bayes Model\n",
    "y_pred = nb.predict(X_test)"
   ]
  },
  {
   "cell_type": "code",
   "execution_count": 101,
   "id": "2d427b76",
   "metadata": {},
   "outputs": [
    {
     "name": "stdout",
     "output_type": "stream",
     "text": [
      "              precision    recall  f1-score   support\n",
      "\n",
      "           0       0.71      1.00      0.83      1597\n",
      "           1       0.00      0.00      0.00       660\n",
      "\n",
      "    accuracy                           0.71      2257\n",
      "   macro avg       0.35      0.50      0.41      2257\n",
      "weighted avg       0.50      0.71      0.59      2257\n",
      "\n"
     ]
    },
    {
     "name": "stderr",
     "output_type": "stream",
     "text": [
      "/Users/ryan_s_dunn/opt/anaconda3/lib/python3.8/site-packages/sklearn/metrics/_classification.py:1248: UndefinedMetricWarning: Precision and F-score are ill-defined and being set to 0.0 in labels with no predicted samples. Use `zero_division` parameter to control this behavior.\n",
      "  _warn_prf(average, modifier, msg_start, len(result))\n",
      "/Users/ryan_s_dunn/opt/anaconda3/lib/python3.8/site-packages/sklearn/metrics/_classification.py:1248: UndefinedMetricWarning: Precision and F-score are ill-defined and being set to 0.0 in labels with no predicted samples. Use `zero_division` parameter to control this behavior.\n",
      "  _warn_prf(average, modifier, msg_start, len(result))\n",
      "/Users/ryan_s_dunn/opt/anaconda3/lib/python3.8/site-packages/sklearn/metrics/_classification.py:1248: UndefinedMetricWarning: Precision and F-score are ill-defined and being set to 0.0 in labels with no predicted samples. Use `zero_division` parameter to control this behavior.\n",
      "  _warn_prf(average, modifier, msg_start, len(result))\n"
     ]
    }
   ],
   "source": [
    "print(classification_report(y_test, y_pred))"
   ]
  },
  {
   "cell_type": "code",
   "execution_count": 106,
   "id": "6863b800",
   "metadata": {},
   "outputs": [
    {
     "data": {
      "text/html": [
       "<div>\n",
       "<style scoped>\n",
       "    .dataframe tbody tr th:only-of-type {\n",
       "        vertical-align: middle;\n",
       "    }\n",
       "\n",
       "    .dataframe tbody tr th {\n",
       "        vertical-align: top;\n",
       "    }\n",
       "\n",
       "    .dataframe thead th {\n",
       "        text-align: right;\n",
       "    }\n",
       "</style>\n",
       "<table border=\"1\" class=\"dataframe\">\n",
       "  <thead>\n",
       "    <tr style=\"text-align: right;\">\n",
       "      <th></th>\n",
       "      <th>0</th>\n",
       "      <th>1</th>\n",
       "    </tr>\n",
       "  </thead>\n",
       "  <tbody>\n",
       "    <tr>\n",
       "      <th>0</th>\n",
       "      <td>1597</td>\n",
       "      <td>0</td>\n",
       "    </tr>\n",
       "    <tr>\n",
       "      <th>1</th>\n",
       "      <td>660</td>\n",
       "      <td>0</td>\n",
       "    </tr>\n",
       "  </tbody>\n",
       "</table>\n",
       "</div>"
      ],
      "text/plain": [
       "      0  1\n",
       "0  1597  0\n",
       "1   660  0"
      ]
     },
     "execution_count": 106,
     "metadata": {},
     "output_type": "execute_result"
    }
   ],
   "source": [
    "cf_dm = pd.DataFrame(confusion_matrix(y_test, y_pred))\n",
    "#cf_dm = pd.crosstab(\"True\", \"False\")\n",
    "cf_dm"
   ]
  },
  {
   "cell_type": "markdown",
   "id": "17a5b464",
   "metadata": {},
   "source": [
    "### 33. According to your table in the previous exercise, find the following values for the Naive Bayes model:"
   ]
  },
  {
   "cell_type": "markdown",
   "id": "4924e186",
   "metadata": {},
   "source": [
    "#### (a) Accuracy:"
   ]
  },
  {
   "cell_type": "code",
   "execution_count": 81,
   "id": "187487c4",
   "metadata": {},
   "outputs": [
    {
     "name": "stdout",
     "output_type": "stream",
     "text": [
      "accuracy is 0.7075764288879043\n"
     ]
    }
   ],
   "source": [
    "from sklearn.metrics import accuracy_score\n",
    "print('The accuracy is',accuracy_score(y_pred,y_test))"
   ]
  },
  {
   "cell_type": "markdown",
   "id": "d38a3b84",
   "metadata": {},
   "source": [
    "#### (b) Error Rate:"
   ]
  },
  {
   "cell_type": "code",
   "execution_count": 120,
   "id": "6ff40993",
   "metadata": {},
   "outputs": [
    {
     "name": "stdout",
     "output_type": "stream",
     "text": [
      "The error rate is 0.2924235711120957\n"
     ]
    }
   ],
   "source": [
    "print('The error rate is', (1 - accuracy_score(y_pred,y_test)))"
   ]
  },
  {
   "cell_type": "markdown",
   "id": "751a8ffc",
   "metadata": {},
   "source": [
    "### 34. According to your contingency table, find the following values for the Naive Bayes model:"
   ]
  },
  {
   "cell_type": "code",
   "execution_count": 162,
   "id": "77f32c9c",
   "metadata": {},
   "outputs": [
    {
     "data": {
      "text/plain": [
       "array([[1471,  126],\n",
       "       [ 491,  169]])"
      ]
     },
     "execution_count": 162,
     "metadata": {},
     "output_type": "execute_result"
    }
   ],
   "source": [
    "#create the confusion matrix\n",
    "from sklearn.metrics import confusion_matrix\n",
    "cm = confusion_matrix(y_test, y_pred)\n",
    "cm"
   ]
  },
  {
   "cell_type": "code",
   "execution_count": 112,
   "id": "539674a8",
   "metadata": {},
   "outputs": [
    {
     "name": "stdout",
     "output_type": "stream",
     "text": [
      "1597\n",
      "0\n",
      "660\n",
      "0\n"
     ]
    }
   ],
   "source": [
    "#select the individual evaluation metrics from the confusion matrix\n",
    "TN = cm[0][0]\n",
    "FP = cm[0][1]\n",
    "FN = cm[1][0]\n",
    "TP = cm[1][1]\n",
    "\n",
    "#review each evaluation method for accuracy\n",
    "print(TN)\n",
    "print(FP)\n",
    "print(FN)\n",
    "print(TP)"
   ]
  },
  {
   "cell_type": "code",
   "execution_count": 84,
   "id": "87d20f78",
   "metadata": {},
   "outputs": [
    {
     "data": {
      "text/html": [
       "<div>\n",
       "<style scoped>\n",
       "    .dataframe tbody tr th:only-of-type {\n",
       "        vertical-align: middle;\n",
       "    }\n",
       "\n",
       "    .dataframe tbody tr th {\n",
       "        vertical-align: top;\n",
       "    }\n",
       "\n",
       "    .dataframe thead th {\n",
       "        text-align: right;\n",
       "    }\n",
       "</style>\n",
       "<table border=\"1\" class=\"dataframe\">\n",
       "  <thead>\n",
       "    <tr style=\"text-align: right;\">\n",
       "      <th>Age</th>\n",
       "      <th>32</th>\n",
       "      <th>33</th>\n",
       "      <th>34</th>\n",
       "      <th>35</th>\n",
       "      <th>36</th>\n",
       "      <th>37</th>\n",
       "      <th>38</th>\n",
       "      <th>39</th>\n",
       "      <th>40</th>\n",
       "      <th>41</th>\n",
       "      <th>...</th>\n",
       "      <th>73</th>\n",
       "      <th>74</th>\n",
       "      <th>75</th>\n",
       "      <th>76</th>\n",
       "      <th>77</th>\n",
       "      <th>78</th>\n",
       "      <th>79</th>\n",
       "      <th>80</th>\n",
       "      <th>81</th>\n",
       "      <th>Total</th>\n",
       "    </tr>\n",
       "    <tr>\n",
       "      <th>Sex</th>\n",
       "      <th></th>\n",
       "      <th></th>\n",
       "      <th></th>\n",
       "      <th></th>\n",
       "      <th></th>\n",
       "      <th></th>\n",
       "      <th></th>\n",
       "      <th></th>\n",
       "      <th></th>\n",
       "      <th></th>\n",
       "      <th></th>\n",
       "      <th></th>\n",
       "      <th></th>\n",
       "      <th></th>\n",
       "      <th></th>\n",
       "      <th></th>\n",
       "      <th></th>\n",
       "      <th></th>\n",
       "      <th></th>\n",
       "      <th></th>\n",
       "      <th></th>\n",
       "    </tr>\n",
       "  </thead>\n",
       "  <tbody>\n",
       "    <tr>\n",
       "      <th>1</th>\n",
       "      <td>0</td>\n",
       "      <td>1</td>\n",
       "      <td>2</td>\n",
       "      <td>9</td>\n",
       "      <td>33</td>\n",
       "      <td>27</td>\n",
       "      <td>45</td>\n",
       "      <td>55</td>\n",
       "      <td>58</td>\n",
       "      <td>60</td>\n",
       "      <td>...</td>\n",
       "      <td>29</td>\n",
       "      <td>28</td>\n",
       "      <td>17</td>\n",
       "      <td>12</td>\n",
       "      <td>9</td>\n",
       "      <td>0</td>\n",
       "      <td>5</td>\n",
       "      <td>2</td>\n",
       "      <td>0</td>\n",
       "      <td>3437</td>\n",
       "    </tr>\n",
       "    <tr>\n",
       "      <th>2</th>\n",
       "      <td>1</td>\n",
       "      <td>3</td>\n",
       "      <td>8</td>\n",
       "      <td>17</td>\n",
       "      <td>33</td>\n",
       "      <td>34</td>\n",
       "      <td>51</td>\n",
       "      <td>69</td>\n",
       "      <td>90</td>\n",
       "      <td>79</td>\n",
       "      <td>...</td>\n",
       "      <td>46</td>\n",
       "      <td>31</td>\n",
       "      <td>32</td>\n",
       "      <td>17</td>\n",
       "      <td>15</td>\n",
       "      <td>9</td>\n",
       "      <td>8</td>\n",
       "      <td>2</td>\n",
       "      <td>2</td>\n",
       "      <td>4516</td>\n",
       "    </tr>\n",
       "    <tr>\n",
       "      <th>Total</th>\n",
       "      <td>1</td>\n",
       "      <td>4</td>\n",
       "      <td>10</td>\n",
       "      <td>26</td>\n",
       "      <td>66</td>\n",
       "      <td>61</td>\n",
       "      <td>96</td>\n",
       "      <td>124</td>\n",
       "      <td>148</td>\n",
       "      <td>139</td>\n",
       "      <td>...</td>\n",
       "      <td>75</td>\n",
       "      <td>59</td>\n",
       "      <td>49</td>\n",
       "      <td>29</td>\n",
       "      <td>24</td>\n",
       "      <td>9</td>\n",
       "      <td>13</td>\n",
       "      <td>4</td>\n",
       "      <td>2</td>\n",
       "      <td>7953</td>\n",
       "    </tr>\n",
       "  </tbody>\n",
       "</table>\n",
       "<p>3 rows × 51 columns</p>\n",
       "</div>"
      ],
      "text/plain": [
       "Age    32  33  34  35  36  37  38   39   40   41  ...  73  74  75  76  77  78  \\\n",
       "Sex                                               ...                           \n",
       "1       0   1   2   9  33  27  45   55   58   60  ...  29  28  17  12   9   0   \n",
       "2       1   3   8  17  33  34  51   69   90   79  ...  46  31  32  17  15   9   \n",
       "Total   1   4  10  26  66  61  96  124  148  139  ...  75  59  49  29  24   9   \n",
       "\n",
       "Age    79  80  81  Total  \n",
       "Sex                       \n",
       "1       5   2   0   3437  \n",
       "2       8   2   2   4516  \n",
       "Total  13   4   2   7953  \n",
       "\n",
       "[3 rows x 51 columns]"
      ]
     },
     "execution_count": 84,
     "metadata": {},
     "output_type": "execute_result"
    }
   ],
   "source": [
    "t1 = pd.crosstab(death_training['Sex'], death_training['Age'])\n",
    "t1['Total'] = t1.sum(axis=1)\n",
    "t1.loc['Total'] = t1.sum()\n",
    "t1"
   ]
  },
  {
   "cell_type": "code",
   "execution_count": 85,
   "id": "cf6be884",
   "metadata": {},
   "outputs": [
    {
     "data": {
      "text/plain": [
       "<AxesSubplot:xlabel='Sex'>"
      ]
     },
     "execution_count": 85,
     "metadata": {},
     "output_type": "execute_result"
    },
    {
     "data": {
      "image/png": "[encoded data removed]",
      "text/plain": [
       "<Figure size 432x288 with 1 Axes>"
      ]
     },
     "metadata": {
      "needs_background": "light"
     },
     "output_type": "display_data"
    }
   ],
   "source": [
    "t1_plot = pd.crosstab(death_training['Sex'], death_training['Age'])\n",
    "t1_plot.plot(kind='bar', legend = None, stacked = True)"
   ]
  },
  {
   "cell_type": "markdown",
   "id": "082da35c",
   "metadata": {},
   "source": []
  },
  {
   "cell_type": "markdown",
   "id": "34f6a949",
   "metadata": {},
   "source": [
    "#### (a) How often it correctly classifies dead persons."
   ]
  },
  {
   "cell_type": "markdown",
   "id": "9b1b3ceb",
   "metadata": {},
   "source": [
    "#### (b) How often it correctly classifies living persons."
   ]
  }
 ],
 "metadata": {
  "kernelspec": {
   "display_name": "Python 3",
   "language": "python",
   "name": "python3"
  },
  "language_info": {
   "codemirror_mode": {
    "name": "ipython",
    "version": 3
   },
   "file_extension": ".py",
   "mimetype": "text/x-python",
   "name": "python",
   "nbconvert_exporter": "python",
   "pygments_lexer": "ipython3",
   "version": "3.8.8"
  }
 },
 "nbformat": 4,
 "nbformat_minor": 5
}
