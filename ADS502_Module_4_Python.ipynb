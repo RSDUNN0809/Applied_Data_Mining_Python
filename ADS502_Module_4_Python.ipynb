{
 "cells": [
  {
   "cell_type": "markdown",
   "id": "f4cd4310",
   "metadata": {},
   "source": [
    "# ADS 502 Moduel 4 Assignment  | Python "
   ]
  },
  {
   "cell_type": "markdown",
   "id": "d1d9556f",
   "metadata": {},
   "source": [
    "### Ryan S. Dunn "
   ]
  },
  {
   "cell_type": "markdown",
   "id": "3c0aefd7",
   "metadata": {},
   "source": [
    "## Data Science Using Python and R: Chapter 13 - Page 195: Questions #13, 14, 15, 16, & 17"
   ]
  },
  {
   "cell_type": "markdown",
   "id": "a817e093",
   "metadata": {},
   "source": [
    "### 13. Create a logistic regression model to predict whether or not a customer has a store credit card, based on whether they have a web account and the days between purchases. Obtain the summary of the model. "
   ]
  },
  {
   "cell_type": "code",
   "execution_count": 90,
   "id": "a3b90971",
   "metadata": {},
   "outputs": [],
   "source": [
    "#import libraries\n",
    "import pandas as pd\n",
    "import numpy as np \n",
    "import statsmodels.api as sm\n",
    "from scipy import stats\n",
    "from sklearn.metrics import confusion_matrix"
   ]
  },
  {
   "cell_type": "code",
   "execution_count": 2,
   "id": "b8f131ae",
   "metadata": {},
   "outputs": [],
   "source": [
    "clothing_test = pd.read_csv(\"/Users/ryan_s_dunn/Documents/USD MS-ADS/Applied Data Mining 502/Module 4/Datasets/clothing_sales_test.csv\")"
   ]
  },
  {
   "cell_type": "code",
   "execution_count": 3,
   "id": "d3fe72e2",
   "metadata": {},
   "outputs": [],
   "source": [
    "clothing_train = pd.read_csv(\"/Users/ryan_s_dunn/Documents/USD MS-ADS/Applied Data Mining 502/Module 4/Datasets/clothing_sales_training.csv\")"
   ]
  },
  {
   "cell_type": "code",
   "execution_count": 4,
   "id": "95973e78",
   "metadata": {},
   "outputs": [],
   "source": [
    "#separate the training variables into predictor variables and response variables\n",
    "X_train = pd.DataFrame(clothing_train[['Days','Web']])\n",
    "X_train = sm.add_constant(X_train)\n",
    "y_train = pd.DataFrame(clothing_train[['CC']])"
   ]
  },
  {
   "cell_type": "code",
   "execution_count": 5,
   "id": "e748aa1a",
   "metadata": {},
   "outputs": [
    {
     "name": "stdout",
     "output_type": "stream",
     "text": [
      "Optimization terminated successfully.\n",
      "         Current function value: 0.655955\n",
      "         Iterations 5\n"
     ]
    },
    {
     "data": {
      "text/html": [
       "<table class=\"simpletable\">\n",
       "<tr>\n",
       "        <td>Model:</td>              <td>Logit</td>      <td>Pseudo R-squared:</td>    <td>0.053</td>  \n",
       "</tr>\n",
       "<tr>\n",
       "  <td>Dependent Variable:</td>        <td>CC</td>              <td>AIC:</td>         <td>1909.5825</td>\n",
       "</tr>\n",
       "<tr>\n",
       "         <td>Date:</td>        <td>2021-11-21 18:42</td>       <td>BIC:</td>         <td>1925.4226</td>\n",
       "</tr>\n",
       "<tr>\n",
       "   <td>No. Observations:</td>        <td>1451</td>        <td>Log-Likelihood:</td>    <td>-951.79</td> \n",
       "</tr>\n",
       "<tr>\n",
       "       <td>Df Model:</td>              <td>2</td>            <td>LL-Null:</td>        <td>-1004.9</td> \n",
       "</tr>\n",
       "<tr>\n",
       "     <td>Df Residuals:</td>          <td>1448</td>         <td>LLR p-value:</td>    <td>8.3668e-24</td>\n",
       "</tr>\n",
       "<tr>\n",
       "      <td>Converged:</td>           <td>1.0000</td>           <td>Scale:</td>         <td>1.0000</td>  \n",
       "</tr>\n",
       "<tr>\n",
       "    <td>No. Iterations:</td>        <td>5.0000</td>              <td></td>               <td></td>     \n",
       "</tr>\n",
       "</table>\n",
       "<table class=\"simpletable\">\n",
       "<tr>\n",
       "    <td></td>     <th>Coef.</th>  <th>Std.Err.</th>    <th>z</th>     <th>P>|z|</th> <th>[0.025</th>  <th>0.975]</th> \n",
       "</tr>\n",
       "<tr>\n",
       "  <th>const</th> <td>0.4962</td>   <td>0.0887</td>  <td>5.5968</td>  <td>0.0000</td> <td>0.3224</td>  <td>0.6699</td> \n",
       "</tr>\n",
       "<tr>\n",
       "  <th>Days</th>  <td>-0.0037</td>  <td>0.0004</td>  <td>-8.4491</td> <td>0.0000</td> <td>-0.0046</td> <td>-0.0028</td>\n",
       "</tr>\n",
       "<tr>\n",
       "  <th>Web</th>   <td>1.2537</td>   <td>0.3307</td>  <td>3.7914</td>  <td>0.0001</td> <td>0.6056</td>  <td>1.9018</td> \n",
       "</tr>\n",
       "</table>"
      ],
      "text/plain": [
       "<class 'statsmodels.iolib.summary2.Summary'>\n",
       "\"\"\"\n",
       "                         Results: Logit\n",
       "=================================================================\n",
       "Model:              Logit            Pseudo R-squared: 0.053     \n",
       "Dependent Variable: CC               AIC:              1909.5825 \n",
       "Date:               2021-11-21 18:42 BIC:              1925.4226 \n",
       "No. Observations:   1451             Log-Likelihood:   -951.79   \n",
       "Df Model:           2                LL-Null:          -1004.9   \n",
       "Df Residuals:       1448             LLR p-value:      8.3668e-24\n",
       "Converged:          1.0000           Scale:            1.0000    \n",
       "No. Iterations:     5.0000                                       \n",
       "-------------------------------------------------------------------\n",
       "           Coef.    Std.Err.      z      P>|z|     [0.025    0.975]\n",
       "-------------------------------------------------------------------\n",
       "const      0.4962     0.0887    5.5968   0.0000    0.3224    0.6699\n",
       "Days      -0.0037     0.0004   -8.4491   0.0000   -0.0046   -0.0028\n",
       "Web        1.2537     0.3307    3.7914   0.0001    0.6056    1.9018\n",
       "=================================================================\n",
       "\n",
       "\"\"\""
      ]
     },
     "execution_count": 5,
     "metadata": {},
     "output_type": "execute_result"
    }
   ],
   "source": [
    "#develop the logistic regression model \n",
    "logreg1 = sm.Logit(y_train, X_train).fit()\n",
    "logreg1.summary2()"
   ]
  },
  {
   "cell_type": "markdown",
   "id": "ab0224b0",
   "metadata": {},
   "source": [
    "### 14. Are there any variables that should be removed from the model? If so, remove them and rerun the model"
   ]
  },
  {
   "cell_type": "markdown",
   "id": "2a3d7b77",
   "metadata": {},
   "source": [
    "There should not be any variables removed from the model, as both p-values for Days and Web suggest that the co-efficients are statistically significant, and therefore relevant for the logistic regression model."
   ]
  },
  {
   "cell_type": "markdown",
   "id": "c4cab9ad",
   "metadata": {},
   "source": [
    "### 15. Write the descriptive form of the logistic regression model using the coefficients obtained from Question #13. "
   ]
  },
  {
   "cell_type": "markdown",
   "id": "78c5f0e7",
   "metadata": {},
   "source": [
    "$\\ CC = \\beta_0 - \\beta_1(Days) - \\beta_2(Web)$"
   ]
  },
  {
   "cell_type": "markdown",
   "id": "06732a25",
   "metadata": {},
   "source": [
    "Where: \n",
    "$\\beta_0 = 0.4962$ ,\n",
    "$\\beta_1 = 0.0037$ ,\n",
    "$\\beta_2 = 1.2537$"
   ]
  },
  {
   "cell_type": "markdown",
   "id": "398337f7",
   "metadata": {},
   "source": [
    "### 16. Validate the model using the test data set."
   ]
  },
  {
   "cell_type": "code",
   "execution_count": 6,
   "id": "26e6ef56",
   "metadata": {},
   "outputs": [
    {
     "name": "stdout",
     "output_type": "stream",
     "text": [
      "Optimization terminated successfully.\n",
      "         Current function value: 0.656885\n",
      "         Iterations 5\n"
     ]
    },
    {
     "data": {
      "text/html": [
       "<table class=\"simpletable\">\n",
       "<tr>\n",
       "        <td>Model:</td>              <td>Logit</td>      <td>Pseudo R-squared:</td>    <td>0.052</td>  \n",
       "</tr>\n",
       "<tr>\n",
       "  <td>Dependent Variable:</td>        <td>CC</td>              <td>AIC:</td>         <td>1838.7104</td>\n",
       "</tr>\n",
       "<tr>\n",
       "         <td>Date:</td>        <td>2021-11-21 18:42</td>       <td>BIC:</td>         <td>1854.4324</td>\n",
       "</tr>\n",
       "<tr>\n",
       "   <td>No. Observations:</td>        <td>1395</td>        <td>Log-Likelihood:</td>    <td>-916.36</td> \n",
       "</tr>\n",
       "<tr>\n",
       "       <td>Df Model:</td>              <td>2</td>            <td>LL-Null:</td>        <td>-966.40</td> \n",
       "</tr>\n",
       "<tr>\n",
       "     <td>Df Residuals:</td>          <td>1392</td>         <td>LLR p-value:</td>    <td>1.8534e-22</td>\n",
       "</tr>\n",
       "<tr>\n",
       "      <td>Converged:</td>           <td>1.0000</td>           <td>Scale:</td>         <td>1.0000</td>  \n",
       "</tr>\n",
       "<tr>\n",
       "    <td>No. Iterations:</td>        <td>5.0000</td>              <td></td>               <td></td>     \n",
       "</tr>\n",
       "</table>\n",
       "<table class=\"simpletable\">\n",
       "<tr>\n",
       "    <td></td>     <th>Coef.</th>  <th>Std.Err.</th>    <th>z</th>     <th>P>|z|</th> <th>[0.025</th>  <th>0.975]</th> \n",
       "</tr>\n",
       "<tr>\n",
       "  <th>const</th> <td>0.4634</td>   <td>0.0873</td>  <td>5.3105</td>  <td>0.0000</td> <td>0.2924</td>  <td>0.6345</td> \n",
       "</tr>\n",
       "<tr>\n",
       "  <th>Days</th>  <td>-0.0035</td>  <td>0.0004</td>  <td>-8.2261</td> <td>0.0000</td> <td>-0.0043</td> <td>-0.0026</td>\n",
       "</tr>\n",
       "<tr>\n",
       "  <th>Web</th>   <td>1.0973</td>   <td>0.2830</td>  <td>3.8780</td>  <td>0.0001</td> <td>0.5427</td>  <td>1.6519</td> \n",
       "</tr>\n",
       "</table>"
      ],
      "text/plain": [
       "<class 'statsmodels.iolib.summary2.Summary'>\n",
       "\"\"\"\n",
       "                         Results: Logit\n",
       "=================================================================\n",
       "Model:              Logit            Pseudo R-squared: 0.052     \n",
       "Dependent Variable: CC               AIC:              1838.7104 \n",
       "Date:               2021-11-21 18:42 BIC:              1854.4324 \n",
       "No. Observations:   1395             Log-Likelihood:   -916.36   \n",
       "Df Model:           2                LL-Null:          -966.40   \n",
       "Df Residuals:       1392             LLR p-value:      1.8534e-22\n",
       "Converged:          1.0000           Scale:            1.0000    \n",
       "No. Iterations:     5.0000                                       \n",
       "-------------------------------------------------------------------\n",
       "           Coef.    Std.Err.      z      P>|z|     [0.025    0.975]\n",
       "-------------------------------------------------------------------\n",
       "const      0.4634     0.0873    5.3105   0.0000    0.2924    0.6345\n",
       "Days      -0.0035     0.0004   -8.2261   0.0000   -0.0043   -0.0026\n",
       "Web        1.0973     0.2830    3.8780   0.0001    0.5427    1.6519\n",
       "=================================================================\n",
       "\n",
       "\"\"\""
      ]
     },
     "execution_count": 6,
     "metadata": {},
     "output_type": "execute_result"
    }
   ],
   "source": [
    "#separate the test variables into predictor variables and response variables\n",
    "X_test = pd.DataFrame(clothing_test[['Days','Web']])\n",
    "X_test = sm.add_constant(X_test)\n",
    "y_test = pd.DataFrame(clothing_test[['CC']])\n",
    "\n",
    "#run the model using the test data set\n",
    "logreg1_test = sm.Logit(y_test, X_test).fit()\n",
    "logreg1_test.summary2()"
   ]
  },
  {
   "cell_type": "markdown",
   "id": "7811a804",
   "metadata": {},
   "source": [
    "### 17. Obtain the predicted values of the response variable for each record in the data set. "
   ]
  },
  {
   "cell_type": "code",
   "execution_count": 91,
   "id": "e0c9857d",
   "metadata": {},
   "outputs": [
    {
     "name": "stderr",
     "output_type": "stream",
     "text": [
      "/Users/ryan_s_dunn/opt/anaconda3/lib/python3.8/site-packages/sklearn/utils/validation.py:63: DataConversionWarning: A column-vector y was passed when a 1d array was expected. Please change the shape of y to (n_samples, ), for example using ravel().\n",
      "  return f(*args, **kwargs)\n"
     ]
    },
    {
     "data": {
      "text/html": [
       "<div>\n",
       "<style scoped>\n",
       "    .dataframe tbody tr th:only-of-type {\n",
       "        vertical-align: middle;\n",
       "    }\n",
       "\n",
       "    .dataframe tbody tr th {\n",
       "        vertical-align: top;\n",
       "    }\n",
       "\n",
       "    .dataframe thead th {\n",
       "        text-align: right;\n",
       "    }\n",
       "</style>\n",
       "<table border=\"1\" class=\"dataframe\">\n",
       "  <thead>\n",
       "    <tr style=\"text-align: right;\">\n",
       "      <th></th>\n",
       "      <th>0</th>\n",
       "      <th>1</th>\n",
       "    </tr>\n",
       "  </thead>\n",
       "  <tbody>\n",
       "    <tr>\n",
       "      <th>0</th>\n",
       "      <td>23886</td>\n",
       "      <td>0</td>\n",
       "    </tr>\n",
       "    <tr>\n",
       "      <th>1</th>\n",
       "      <td>2988</td>\n",
       "      <td>0</td>\n",
       "    </tr>\n",
       "  </tbody>\n",
       "</table>\n",
       "</div>"
      ],
      "text/plain": [
       "       0  1\n",
       "0  23886  0\n",
       "1   2988  0"
      ]
     },
     "execution_count": 91,
     "metadata": {},
     "output_type": "execute_result"
    }
   ],
   "source": [
    "from sklearn.linear_model import LogisticRegression\n",
    "from sklearn import metrics\n",
    "\n",
    "#call the LogisticReggresion algorithm from sklearn\n",
    "logreg = LogisticRegression()\n",
    "logreg.fit(X_train, y_train)\n",
    "\n",
    "#obtain the predicted values from the test set\n",
    "y_pred = logreg.predict(X_test)\n",
    "\n",
    "#create the \"predicted and actual\" confusion matrix of the actual and predicted values \n",
    "conf_max_lr = pd.DataFrame(confusion_matrix(y_test, y_pred))\n",
    "conf_max_lr"
   ]
  },
  {
   "cell_type": "code",
   "execution_count": 8,
   "id": "125526bd",
   "metadata": {},
   "outputs": [],
   "source": [
    "#obtain the classification report for the training data\n",
    "#print(classification_report(y_test, y_pred))"
   ]
  },
  {
   "cell_type": "markdown",
   "id": "f4e52c33",
   "metadata": {},
   "source": [
    "## Data Science Using Python and R: Chapter 9 - Page 138: Questions #24, 25, 26, 27, 28, 29, & 30"
   ]
  },
  {
   "cell_type": "markdown",
   "id": "f3bdbbfd",
   "metadata": {},
   "source": [
    "#### 24. Prepare the data set for neural network modeling, including standardizing the variables."
   ]
  },
  {
   "cell_type": "code",
   "execution_count": 39,
   "id": "d5667c11",
   "metadata": {},
   "outputs": [],
   "source": [
    "import pandas as pd\n",
    "import numpy as np\n",
    "\n",
    "#import training and test data sets\n",
    "bank_test = pd.read_csv(\"/Users/ryan_s_dunn/Documents/USD MS-ADS/Applied Data Mining 502/Module 4/Datasets/bank_marketing_test\")\n",
    "\n",
    "#import the test data set \n",
    "bank_train = pd.read_csv(\"/Users/ryan_s_dunn/Documents/USD MS-ADS/Applied Data Mining 502/Module 4/Datasets/bank_marketing_training\")"
   ]
  },
  {
   "cell_type": "code",
   "execution_count": 10,
   "id": "2c972435",
   "metadata": {},
   "outputs": [
    {
     "data": {
      "text/html": [
       "<div>\n",
       "<style scoped>\n",
       "    .dataframe tbody tr th:only-of-type {\n",
       "        vertical-align: middle;\n",
       "    }\n",
       "\n",
       "    .dataframe tbody tr th {\n",
       "        vertical-align: top;\n",
       "    }\n",
       "\n",
       "    .dataframe thead th {\n",
       "        text-align: right;\n",
       "    }\n",
       "</style>\n",
       "<table border=\"1\" class=\"dataframe\">\n",
       "  <thead>\n",
       "    <tr style=\"text-align: right;\">\n",
       "      <th></th>\n",
       "      <th>age</th>\n",
       "      <th>job</th>\n",
       "      <th>marital</th>\n",
       "      <th>education</th>\n",
       "      <th>default</th>\n",
       "      <th>housing</th>\n",
       "      <th>loan</th>\n",
       "      <th>contact</th>\n",
       "      <th>month</th>\n",
       "      <th>day_of_week</th>\n",
       "      <th>...</th>\n",
       "      <th>campaign</th>\n",
       "      <th>days_since_previous</th>\n",
       "      <th>previous</th>\n",
       "      <th>previous_outcome</th>\n",
       "      <th>emp.var.rate</th>\n",
       "      <th>cons.price.idx</th>\n",
       "      <th>cons.conf.idx</th>\n",
       "      <th>euribor3m</th>\n",
       "      <th>nr.employed</th>\n",
       "      <th>response</th>\n",
       "    </tr>\n",
       "  </thead>\n",
       "  <tbody>\n",
       "    <tr>\n",
       "      <th>0</th>\n",
       "      <td>56</td>\n",
       "      <td>housemaid</td>\n",
       "      <td>married</td>\n",
       "      <td>basic.4y</td>\n",
       "      <td>no</td>\n",
       "      <td>no</td>\n",
       "      <td>no</td>\n",
       "      <td>telephone</td>\n",
       "      <td>may</td>\n",
       "      <td>mon</td>\n",
       "      <td>...</td>\n",
       "      <td>1</td>\n",
       "      <td>999</td>\n",
       "      <td>0</td>\n",
       "      <td>nonexistent</td>\n",
       "      <td>1.1</td>\n",
       "      <td>93.994</td>\n",
       "      <td>-36.4</td>\n",
       "      <td>4.857</td>\n",
       "      <td>5191</td>\n",
       "      <td>no</td>\n",
       "    </tr>\n",
       "    <tr>\n",
       "      <th>1</th>\n",
       "      <td>57</td>\n",
       "      <td>services</td>\n",
       "      <td>married</td>\n",
       "      <td>high.school</td>\n",
       "      <td>unknown</td>\n",
       "      <td>no</td>\n",
       "      <td>no</td>\n",
       "      <td>telephone</td>\n",
       "      <td>may</td>\n",
       "      <td>mon</td>\n",
       "      <td>...</td>\n",
       "      <td>1</td>\n",
       "      <td>999</td>\n",
       "      <td>0</td>\n",
       "      <td>nonexistent</td>\n",
       "      <td>1.1</td>\n",
       "      <td>93.994</td>\n",
       "      <td>-36.4</td>\n",
       "      <td>4.857</td>\n",
       "      <td>5191</td>\n",
       "      <td>no</td>\n",
       "    </tr>\n",
       "    <tr>\n",
       "      <th>2</th>\n",
       "      <td>41</td>\n",
       "      <td>blue-collar</td>\n",
       "      <td>married</td>\n",
       "      <td>unknown</td>\n",
       "      <td>unknown</td>\n",
       "      <td>no</td>\n",
       "      <td>no</td>\n",
       "      <td>telephone</td>\n",
       "      <td>may</td>\n",
       "      <td>mon</td>\n",
       "      <td>...</td>\n",
       "      <td>1</td>\n",
       "      <td>999</td>\n",
       "      <td>0</td>\n",
       "      <td>nonexistent</td>\n",
       "      <td>1.1</td>\n",
       "      <td>93.994</td>\n",
       "      <td>-36.4</td>\n",
       "      <td>4.857</td>\n",
       "      <td>5191</td>\n",
       "      <td>no</td>\n",
       "    </tr>\n",
       "    <tr>\n",
       "      <th>3</th>\n",
       "      <td>25</td>\n",
       "      <td>services</td>\n",
       "      <td>single</td>\n",
       "      <td>high.school</td>\n",
       "      <td>no</td>\n",
       "      <td>yes</td>\n",
       "      <td>no</td>\n",
       "      <td>telephone</td>\n",
       "      <td>may</td>\n",
       "      <td>mon</td>\n",
       "      <td>...</td>\n",
       "      <td>1</td>\n",
       "      <td>999</td>\n",
       "      <td>0</td>\n",
       "      <td>nonexistent</td>\n",
       "      <td>1.1</td>\n",
       "      <td>93.994</td>\n",
       "      <td>-36.4</td>\n",
       "      <td>4.857</td>\n",
       "      <td>5191</td>\n",
       "      <td>no</td>\n",
       "    </tr>\n",
       "    <tr>\n",
       "      <th>4</th>\n",
       "      <td>29</td>\n",
       "      <td>blue-collar</td>\n",
       "      <td>single</td>\n",
       "      <td>high.school</td>\n",
       "      <td>no</td>\n",
       "      <td>no</td>\n",
       "      <td>yes</td>\n",
       "      <td>telephone</td>\n",
       "      <td>may</td>\n",
       "      <td>mon</td>\n",
       "      <td>...</td>\n",
       "      <td>1</td>\n",
       "      <td>999</td>\n",
       "      <td>0</td>\n",
       "      <td>nonexistent</td>\n",
       "      <td>1.1</td>\n",
       "      <td>93.994</td>\n",
       "      <td>-36.4</td>\n",
       "      <td>4.857</td>\n",
       "      <td>5191</td>\n",
       "      <td>no</td>\n",
       "    </tr>\n",
       "  </tbody>\n",
       "</table>\n",
       "<p>5 rows × 21 columns</p>\n",
       "</div>"
      ],
      "text/plain": [
       "   age          job  marital    education  default housing loan    contact  \\\n",
       "0   56    housemaid  married     basic.4y       no      no   no  telephone   \n",
       "1   57     services  married  high.school  unknown      no   no  telephone   \n",
       "2   41  blue-collar  married      unknown  unknown      no   no  telephone   \n",
       "3   25     services   single  high.school       no     yes   no  telephone   \n",
       "4   29  blue-collar   single  high.school       no      no  yes  telephone   \n",
       "\n",
       "  month day_of_week  ...  campaign  days_since_previous  previous  \\\n",
       "0   may         mon  ...         1                  999         0   \n",
       "1   may         mon  ...         1                  999         0   \n",
       "2   may         mon  ...         1                  999         0   \n",
       "3   may         mon  ...         1                  999         0   \n",
       "4   may         mon  ...         1                  999         0   \n",
       "\n",
       "   previous_outcome emp.var.rate  cons.price.idx  cons.conf.idx  euribor3m  \\\n",
       "0       nonexistent          1.1          93.994          -36.4      4.857   \n",
       "1       nonexistent          1.1          93.994          -36.4      4.857   \n",
       "2       nonexistent          1.1          93.994          -36.4      4.857   \n",
       "3       nonexistent          1.1          93.994          -36.4      4.857   \n",
       "4       nonexistent          1.1          93.994          -36.4      4.857   \n",
       "\n",
       "   nr.employed  response  \n",
       "0         5191        no  \n",
       "1         5191        no  \n",
       "2         5191        no  \n",
       "3         5191        no  \n",
       "4         5191        no  \n",
       "\n",
       "[5 rows x 21 columns]"
      ]
     },
     "execution_count": 10,
     "metadata": {},
     "output_type": "execute_result"
    }
   ],
   "source": [
    "#preprocess the data for the ANN model\n",
    "bank_train.head()"
   ]
  },
  {
   "cell_type": "code",
   "execution_count": 11,
   "id": "df43ef9f",
   "metadata": {},
   "outputs": [],
   "source": [
    "#develop the ANN model\n",
    "#import tensorflow as tf"
   ]
  },
  {
   "cell_type": "markdown",
   "id": "862bbfde",
   "metadata": {},
   "source": [
    "### 29. Using the same predictors you used for your neural network model, buidl models to predict Response using the following algorithms:"
   ]
  },
  {
   "cell_type": "markdown",
   "id": "1f42ceb0",
   "metadata": {},
   "source": [
    "### a. CART"
   ]
  },
  {
   "cell_type": "code",
   "execution_count": 94,
   "id": "5f56271a",
   "metadata": {},
   "outputs": [],
   "source": [
    "#include neccessary packages to create and display the CART model\n",
    "import statsmodels.tools.tools as stattools\n",
    "from sklearn.tree import DecisionTreeClassifier, export_graphviz \n",
    "from sklearn import tree\n",
    "\n",
    "y_train = bank_train[['response']]\n",
    "y_test = bank_test[['response']]"
   ]
  },
  {
   "cell_type": "code",
   "execution_count": 95,
   "id": "46c8b89f",
   "metadata": {},
   "outputs": [
    {
     "name": "stderr",
     "output_type": "stream",
     "text": [
      "/Users/ryan_s_dunn/opt/anaconda3/lib/python3.8/site-packages/statsmodels/tools/tools.py:158: FutureWarning: categorical is deprecated. Use pandas Categorical to represent categorical data and can get_dummies to construct dummy arrays. It will be removed after release 0.13.\n",
      "  warnings.warn(\n"
     ]
    }
   ],
   "source": [
    "marital_dummy = np.array(bank_train['marital'])\n",
    "education_dummy = np.array(bank_train['education'])\n",
    "loan_dummy = np.array(bank_train['loan'])\n",
    "\n",
    "(marital_cat, martical_cat_dict) = stattools.categorical(marital_dummy, drop=True, dictnames=True)\n",
    "(education_cat, education_cat_dict) = stattools.categorical(education_dummy, drop=True, dictnames=True)\n",
    "(loan_cat, loan_cat_dict) = stattools.categorical(loan_dummy, drop=True, dictnames=True)\n",
    "\n",
    "marital_status = pd.DataFrame(marital_cat)\n",
    "education_status = pd.DataFrame(education_cat)\n",
    "loan_status = pd.DataFrame(loan_cat)\n",
    "\n",
    "#develop the predictor variable training dataframe \n",
    "X_train = pd.concat((marital_status, education_status, loan_status), axis =1)"
   ]
  },
  {
   "cell_type": "code",
   "execution_count": 96,
   "id": "197d7c57",
   "metadata": {},
   "outputs": [
    {
     "name": "stderr",
     "output_type": "stream",
     "text": [
      "/Users/ryan_s_dunn/opt/anaconda3/lib/python3.8/site-packages/statsmodels/tools/tools.py:158: FutureWarning: categorical is deprecated. Use pandas Categorical to represent categorical data and can get_dummies to construct dummy arrays. It will be removed after release 0.13.\n",
      "  warnings.warn(\n"
     ]
    }
   ],
   "source": [
    "#prep the test data\n",
    "marital_dummy_test = np.array(bank_test['marital'])\n",
    "education_dummy_test = np.array(bank_test['education'])\n",
    "loan_dummy_test = np.array(bank_test['loan'])\n",
    "\n",
    "(marital_cat_test, martical_cat_dict_test) = stattools.categorical(marital_dummy_test, drop=True, dictnames=True)\n",
    "(education_cat_test, education_cat_dict_test) = stattools.categorical(education_dummy_test, drop=True, dictnames=True)\n",
    "(loan_cat_test, loan_cat_dict_test) = stattools.categorical(loan_dummy_test, drop=True, dictnames=True)\n",
    "\n",
    "marital_status_test = pd.DataFrame(marital_cat_test)\n",
    "education_status_test = pd.DataFrame(education_cat_test)\n",
    "loan_status_test = pd.DataFrame(loan_cat_test)\n",
    "\n",
    "#develop the test predictor varialbe dataframe \n",
    "X_test = pd.concat((marital_status_test, education_status_test, loan_status_test), axis =1)"
   ]
  },
  {
   "cell_type": "code",
   "execution_count": 104,
   "id": "cd62c305",
   "metadata": {},
   "outputs": [],
   "source": [
    "#develop the CART model with the training data\n",
    "cart = DecisionTreeClassifier(criterion = 'gini', max_leaf_nodes =5).fit(X_train, y_train)"
   ]
  },
  {
   "cell_type": "code",
   "execution_count": 105,
   "id": "1ce4a35b",
   "metadata": {},
   "outputs": [],
   "source": [
    "#get the predicted values for X_test with the CART model \n",
    "y_pred_cart = cart.predict(X_test)"
   ]
  },
  {
   "cell_type": "code",
   "execution_count": 106,
   "id": "c3f06ceb",
   "metadata": {},
   "outputs": [
    {
     "name": "stderr",
     "output_type": "stream",
     "text": [
      "/Users/ryan_s_dunn/opt/anaconda3/lib/python3.8/site-packages/sklearn/metrics/_classification.py:1248: UndefinedMetricWarning: Recall and F-score are ill-defined and being set to 0.0 in labels with no true samples. Use `zero_division` parameter to control this behavior.\n",
      "  _warn_prf(average, modifier, msg_start, len(result))\n"
     ]
    },
    {
     "name": "stdout",
     "output_type": "stream",
     "text": [
      "              precision    recall  f1-score   support\n",
      "\n",
      "          no       1.00      0.89      0.94     26874\n",
      "         yes       0.00      0.00      0.00         0\n",
      "\n",
      "    accuracy                           0.89     26874\n",
      "   macro avg       0.50      0.44      0.47     26874\n",
      "weighted avg       1.00      0.89      0.94     26874\n",
      "\n"
     ]
    },
    {
     "name": "stderr",
     "output_type": "stream",
     "text": [
      "/Users/ryan_s_dunn/opt/anaconda3/lib/python3.8/site-packages/sklearn/metrics/_classification.py:1248: UndefinedMetricWarning: Recall and F-score are ill-defined and being set to 0.0 in labels with no true samples. Use `zero_division` parameter to control this behavior.\n",
      "  _warn_prf(average, modifier, msg_start, len(result))\n",
      "/Users/ryan_s_dunn/opt/anaconda3/lib/python3.8/site-packages/sklearn/metrics/_classification.py:1248: UndefinedMetricWarning: Recall and F-score are ill-defined and being set to 0.0 in labels with no true samples. Use `zero_division` parameter to control this behavior.\n",
      "  _warn_prf(average, modifier, msg_start, len(result))\n"
     ]
    }
   ],
   "source": [
    "#obtain the classification report for the training data\n",
    "print(classification_report(y_pred_cart, y_test))"
   ]
  },
  {
   "cell_type": "code",
   "execution_count": 107,
   "id": "49dfd6e6",
   "metadata": {},
   "outputs": [
    {
     "data": {
      "text/html": [
       "<div>\n",
       "<style scoped>\n",
       "    .dataframe tbody tr th:only-of-type {\n",
       "        vertical-align: middle;\n",
       "    }\n",
       "\n",
       "    .dataframe tbody tr th {\n",
       "        vertical-align: top;\n",
       "    }\n",
       "\n",
       "    .dataframe thead th {\n",
       "        text-align: right;\n",
       "    }\n",
       "</style>\n",
       "<table border=\"1\" class=\"dataframe\">\n",
       "  <thead>\n",
       "    <tr style=\"text-align: right;\">\n",
       "      <th></th>\n",
       "      <th>0</th>\n",
       "      <th>1</th>\n",
       "    </tr>\n",
       "  </thead>\n",
       "  <tbody>\n",
       "    <tr>\n",
       "      <th>0</th>\n",
       "      <td>23886</td>\n",
       "      <td>0</td>\n",
       "    </tr>\n",
       "    <tr>\n",
       "      <th>1</th>\n",
       "      <td>2988</td>\n",
       "      <td>0</td>\n",
       "    </tr>\n",
       "  </tbody>\n",
       "</table>\n",
       "</div>"
      ],
      "text/plain": [
       "       0  1\n",
       "0  23886  0\n",
       "1   2988  0"
      ]
     },
     "execution_count": 107,
     "metadata": {},
     "output_type": "execute_result"
    }
   ],
   "source": [
    "#confusion matrix for CART\n",
    "conf_max_cart = pd.DataFrame(confusion_matrix(y_test, y_pred_cart))\n",
    "conf_max_cart"
   ]
  },
  {
   "cell_type": "markdown",
   "id": "710cffbd",
   "metadata": {},
   "source": [
    "### b. C5.0"
   ]
  },
  {
   "cell_type": "code",
   "execution_count": 82,
   "id": "84144f48",
   "metadata": {},
   "outputs": [],
   "source": [
    "#develop the c5 model\n",
    "c5 = DecisionTreeClassifier(criterion=\"entropy\", min_samples_split=75, max_leaf_nodes=5).fit(X_train, y_train)"
   ]
  },
  {
   "cell_type": "code",
   "execution_count": 86,
   "id": "0d224c8e",
   "metadata": {},
   "outputs": [],
   "source": [
    "#run the C5 test data in the model \n",
    "y_pred_c5 = c5.predict(X_test)"
   ]
  },
  {
   "cell_type": "code",
   "execution_count": 87,
   "id": "697c22ce",
   "metadata": {},
   "outputs": [
    {
     "name": "stderr",
     "output_type": "stream",
     "text": [
      "/Users/ryan_s_dunn/opt/anaconda3/lib/python3.8/site-packages/sklearn/metrics/_classification.py:1248: UndefinedMetricWarning: Recall and F-score are ill-defined and being set to 0.0 in labels with no true samples. Use `zero_division` parameter to control this behavior.\n",
      "  _warn_prf(average, modifier, msg_start, len(result))\n"
     ]
    },
    {
     "name": "stdout",
     "output_type": "stream",
     "text": [
      "              precision    recall  f1-score   support\n",
      "\n",
      "          no       1.00      0.89      0.94     26874\n",
      "         yes       0.00      0.00      0.00         0\n",
      "\n",
      "    accuracy                           0.89     26874\n",
      "   macro avg       0.50      0.44      0.47     26874\n",
      "weighted avg       1.00      0.89      0.94     26874\n",
      "\n"
     ]
    },
    {
     "name": "stderr",
     "output_type": "stream",
     "text": [
      "/Users/ryan_s_dunn/opt/anaconda3/lib/python3.8/site-packages/sklearn/metrics/_classification.py:1248: UndefinedMetricWarning: Recall and F-score are ill-defined and being set to 0.0 in labels with no true samples. Use `zero_division` parameter to control this behavior.\n",
      "  _warn_prf(average, modifier, msg_start, len(result))\n",
      "/Users/ryan_s_dunn/opt/anaconda3/lib/python3.8/site-packages/sklearn/metrics/_classification.py:1248: UndefinedMetricWarning: Recall and F-score are ill-defined and being set to 0.0 in labels with no true samples. Use `zero_division` parameter to control this behavior.\n",
      "  _warn_prf(average, modifier, msg_start, len(result))\n"
     ]
    }
   ],
   "source": [
    "#obtain the classification report for the training data\n",
    "print(classification_report(y_pred_c5, y_test))"
   ]
  },
  {
   "cell_type": "code",
   "execution_count": 102,
   "id": "db40c6c0",
   "metadata": {},
   "outputs": [
    {
     "data": {
      "text/html": [
       "<div>\n",
       "<style scoped>\n",
       "    .dataframe tbody tr th:only-of-type {\n",
       "        vertical-align: middle;\n",
       "    }\n",
       "\n",
       "    .dataframe tbody tr th {\n",
       "        vertical-align: top;\n",
       "    }\n",
       "\n",
       "    .dataframe thead th {\n",
       "        text-align: right;\n",
       "    }\n",
       "</style>\n",
       "<table border=\"1\" class=\"dataframe\">\n",
       "  <thead>\n",
       "    <tr style=\"text-align: right;\">\n",
       "      <th></th>\n",
       "      <th>0</th>\n",
       "      <th>1</th>\n",
       "    </tr>\n",
       "  </thead>\n",
       "  <tbody>\n",
       "    <tr>\n",
       "      <th>0</th>\n",
       "      <td>23886</td>\n",
       "      <td>0</td>\n",
       "    </tr>\n",
       "    <tr>\n",
       "      <th>1</th>\n",
       "      <td>2988</td>\n",
       "      <td>0</td>\n",
       "    </tr>\n",
       "  </tbody>\n",
       "</table>\n",
       "</div>"
      ],
      "text/plain": [
       "       0  1\n",
       "0  23886  0\n",
       "1   2988  0"
      ]
     },
     "execution_count": 102,
     "metadata": {},
     "output_type": "execute_result"
    }
   ],
   "source": [
    "#confusion matrix for C5\n",
    "conf_max_c5 = pd.DataFrame(confusion_matrix(y_test, y_pred_c5))\n",
    "conf_max_c5"
   ]
  },
  {
   "cell_type": "markdown",
   "id": "a51d7be9",
   "metadata": {},
   "source": [
    "### c. Naive Bayes"
   ]
  },
  {
   "cell_type": "code",
   "execution_count": 13,
   "id": "4532fc95",
   "metadata": {},
   "outputs": [],
   "source": [
    "import pandas as pd\n",
    "import numpy as np \n",
    "from sklearn.naive_bayes import MultinomialNB\n",
    "import statsmodels.tools.tools as statstools"
   ]
  },
  {
   "cell_type": "code",
   "execution_count": 14,
   "id": "6571f127",
   "metadata": {},
   "outputs": [],
   "source": [
    "#X and Y variables for the Naive Bayes model \n",
    "X_marital_ind = np.array(bank_train['marital'])\n",
    "(X_marital_ind, X_marital_ind_dict) = statstools.categorical(X_marital_ind, drop = True, dictnames = True)\n",
    "X_marital_ind = pd.DataFrame(X_marital_ind)\n",
    "\n",
    "X_education_ind = np.array(bank_train['education'])\n",
    "(X_education_ind, X_education_ind_dict) = statstools.categorical(X_education_ind, drop = True, dictnames = True)\n",
    "X_education_ind = pd.DataFrame(X_education_ind)\n",
    "\n",
    "X_loan_ind = np.array(bank_train['loan'])\n",
    "(X_loan_ind, X_loan_ind_dict) = statstools.categorical(X_loan_ind, drop = True, dictnames = True)\n",
    "X_loan_ind = pd.DataFrame(X_loan_ind)\n",
    "\n",
    "X = pd.concat((X_marital_ind, X_education_ind, X_loan_ind), axis = 1)\n",
    "\n",
    "y_response = bank_train['response']"
   ]
  },
  {
   "cell_type": "code",
   "execution_count": 15,
   "id": "338118a6",
   "metadata": {},
   "outputs": [],
   "source": [
    "#develop the Naive Bayes model\n",
    "nb_bank = MultinomialNB().fit(X,y_response)"
   ]
  },
  {
   "cell_type": "code",
   "execution_count": 16,
   "id": "49ea4eaf",
   "metadata": {},
   "outputs": [
    {
     "name": "stderr",
     "output_type": "stream",
     "text": [
      "/Users/ryan_s_dunn/opt/anaconda3/lib/python3.8/site-packages/statsmodels/tools/tools.py:158: FutureWarning: categorical is deprecated. Use pandas Categorical to represent categorical data and can get_dummies to construct dummy arrays. It will be removed after release 0.13.\n",
      "  warnings.warn(\n"
     ]
    }
   ],
   "source": [
    "#test data preprocessing\n",
    "X_marital_ind_test = np.array(bank_test['marital'])\n",
    "(X_marital_ind_test, X_marital_ind_dict_test) = statstools.categorical(X_marital_ind_test, drop = True, dictnames = True)\n",
    "X_marital_ind_test = pd.DataFrame(X_marital_ind_test)\n",
    "\n",
    "X_education_ind_test = np.array(bank_test['education'])\n",
    "(X_education_ind_test, X_education_ind_dict_test) = statstools.categorical(X_education_ind_test, drop = True, dictnames = True)\n",
    "X_education_ind_test = pd.DataFrame(X_education_ind_test)\n",
    "\n",
    "X_loan_ind_test = np.array(bank_test['loan'])\n",
    "(X_loan_ind_test, X_loan_ind_dict_test) = statstools.categorical(X_loan_ind_test, drop = True, dictnames = True)\n",
    "X_loan_ind_test = pd.DataFrame(X_loan_ind_test)\n",
    "\n",
    "X_test = pd.concat((X_marital_ind_test, X_education_ind_test, X_loan_ind_test), axis = 1)\n",
    "y_test = bank_test['response']"
   ]
  },
  {
   "cell_type": "code",
   "execution_count": 17,
   "id": "fcc94b72",
   "metadata": {},
   "outputs": [],
   "source": [
    "#run the model against the test data \n",
    "y_predicted = nb_bank.predict(X_test)"
   ]
  },
  {
   "cell_type": "code",
   "execution_count": 18,
   "id": "e335fb80",
   "metadata": {},
   "outputs": [
    {
     "data": {
      "text/html": [
       "<div>\n",
       "<style scoped>\n",
       "    .dataframe tbody tr th:only-of-type {\n",
       "        vertical-align: middle;\n",
       "    }\n",
       "\n",
       "    .dataframe tbody tr th {\n",
       "        vertical-align: top;\n",
       "    }\n",
       "\n",
       "    .dataframe thead th {\n",
       "        text-align: right;\n",
       "    }\n",
       "</style>\n",
       "<table border=\"1\" class=\"dataframe\">\n",
       "  <thead>\n",
       "    <tr style=\"text-align: right;\">\n",
       "      <th>Predicted</th>\n",
       "      <th>no</th>\n",
       "      <th>Total</th>\n",
       "    </tr>\n",
       "    <tr>\n",
       "      <th>Actual</th>\n",
       "      <th></th>\n",
       "      <th></th>\n",
       "    </tr>\n",
       "  </thead>\n",
       "  <tbody>\n",
       "    <tr>\n",
       "      <th>no</th>\n",
       "      <td>23886</td>\n",
       "      <td>23886</td>\n",
       "    </tr>\n",
       "    <tr>\n",
       "      <th>yes</th>\n",
       "      <td>2988</td>\n",
       "      <td>2988</td>\n",
       "    </tr>\n",
       "    <tr>\n",
       "      <th>Total</th>\n",
       "      <td>26874</td>\n",
       "      <td>26874</td>\n",
       "    </tr>\n",
       "  </tbody>\n",
       "</table>\n",
       "</div>"
      ],
      "text/plain": [
       "Predicted     no  Total\n",
       "Actual                 \n",
       "no         23886  23886\n",
       "yes         2988   2988\n",
       "Total      26874  26874"
      ]
     },
     "execution_count": 18,
     "metadata": {},
     "output_type": "execute_result"
    }
   ],
   "source": [
    "ypred_bank = pd.crosstab(bank_test['response'], y_predicted, rownames = ['Actual'], colnames = ['Predicted'])\n",
    "ypred_bank['Total'] = ypred_bank.sum(axis=1); ypred_bank.loc['Total'] = ypred_bank.sum(); \n",
    "ypred_bank"
   ]
  },
  {
   "cell_type": "code",
   "execution_count": 19,
   "id": "eb543734",
   "metadata": {},
   "outputs": [
    {
     "name": "stderr",
     "output_type": "stream",
     "text": [
      "/Users/ryan_s_dunn/opt/anaconda3/lib/python3.8/site-packages/sklearn/metrics/_classification.py:1248: UndefinedMetricWarning: Recall and F-score are ill-defined and being set to 0.0 in labels with no true samples. Use `zero_division` parameter to control this behavior.\n",
      "  _warn_prf(average, modifier, msg_start, len(result))\n"
     ]
    },
    {
     "name": "stdout",
     "output_type": "stream",
     "text": [
      "              precision    recall  f1-score   support\n",
      "\n",
      "          no       1.00      0.89      0.94     26874\n",
      "         yes       0.00      0.00      0.00         0\n",
      "\n",
      "    accuracy                           0.89     26874\n",
      "   macro avg       0.50      0.44      0.47     26874\n",
      "weighted avg       1.00      0.89      0.94     26874\n",
      "\n"
     ]
    },
    {
     "name": "stderr",
     "output_type": "stream",
     "text": [
      "/Users/ryan_s_dunn/opt/anaconda3/lib/python3.8/site-packages/sklearn/metrics/_classification.py:1248: UndefinedMetricWarning: Recall and F-score are ill-defined and being set to 0.0 in labels with no true samples. Use `zero_division` parameter to control this behavior.\n",
      "  _warn_prf(average, modifier, msg_start, len(result))\n",
      "/Users/ryan_s_dunn/opt/anaconda3/lib/python3.8/site-packages/sklearn/metrics/_classification.py:1248: UndefinedMetricWarning: Recall and F-score are ill-defined and being set to 0.0 in labels with no true samples. Use `zero_division` parameter to control this behavior.\n",
      "  _warn_prf(average, modifier, msg_start, len(result))\n"
     ]
    }
   ],
   "source": [
    "from sklearn.metrics import classification_report\n",
    "\n",
    "print(classification_report(y_predicted, y_test))"
   ]
  },
  {
   "cell_type": "markdown",
   "id": "5905dcea",
   "metadata": {},
   "source": [
    "## Data Science Using Python and R: Chapter 6 - Page 93: Questions #19 & 20"
   ]
  },
  {
   "cell_type": "code",
   "execution_count": 130,
   "id": "010e7754",
   "metadata": {},
   "outputs": [],
   "source": [
    "#preprocess the data for inclusion in the random forest algorithm\n",
    "import statsmodels.tools.tools as stattools\n",
    "from sklearn.tree import DecisionTreeClassifier, export_graphviz \n",
    "from sklearn import tree"
   ]
  },
  {
   "cell_type": "code",
   "execution_count": 131,
   "id": "d7e7847d",
   "metadata": {},
   "outputs": [],
   "source": [
    "#import training data\n",
    "training = pd.read_csv(\"/Users/ryan_s_dunn/Documents/USD MS-ADS/Applied Data Mining 502/Module 2/Datasets/adult_ch6_training\", header = 0)"
   ]
  },
  {
   "cell_type": "code",
   "execution_count": 132,
   "id": "d98d8d4c",
   "metadata": {},
   "outputs": [],
   "source": [
    "#create our y value - Income\n",
    "y_train_rf = training['Income']"
   ]
  },
  {
   "cell_type": "code",
   "execution_count": 133,
   "id": "ac3adf8c",
   "metadata": {},
   "outputs": [
    {
     "name": "stderr",
     "output_type": "stream",
     "text": [
      "/Users/ryan_s_dunn/opt/anaconda3/lib/python3.8/site-packages/statsmodels/tools/tools.py:158: FutureWarning: categorical is deprecated. Use pandas Categorical to represent categorical data and can get_dummies to construct dummy arrays. It will be removed after release 0.13.\n",
      "  warnings.warn(\n"
     ]
    }
   ],
   "source": [
    "#convert categorical varialbes to dummy variables because sklearn needs converted categorical variables\n",
    "marital_status_dummy = np.array(training['Marital status'])\n",
    "\n",
    "#save matrix and dictionary separately\n",
    "(marital_cat, marital_cat_dict) = stattools.categorical(marital_status_dummy, \n",
    "                                                        drop=True,dictnames=True)"
   ]
  },
  {
   "cell_type": "code",
   "execution_count": 134,
   "id": "0c7d2655",
   "metadata": {},
   "outputs": [],
   "source": [
    "#add the dummy variables back into the X varialbes\n",
    "marital_status_pd = pd.DataFrame(marital_cat)\n",
    "\n",
    "#attach the predictor variable Cap_Gains_Losses to the data frame of dummy variables that represent marital status\n",
    "X_train= pd.concat((training[['Cap_Gains_Losses']],\n",
    "                    marital_status_pd), axis=1)"
   ]
  },
  {
   "cell_type": "code",
   "execution_count": 135,
   "id": "33d49282",
   "metadata": {},
   "outputs": [],
   "source": [
    "#note that the columns of X and y do not include the different values of the marital status, so we run \n",
    "#martial_cat_dict and assigne the categories to y to see the values of the columns\n",
    "X_names = [\"Cap_Gains_Losses\",\"Divorced\",\"Married\",\n",
    "           \"Never-married\",\"Separated\",\"Widowed\"]\n",
    "y_names = [\"<=50K\",\">50K\"]"
   ]
  },
  {
   "cell_type": "markdown",
   "id": "a7ca0194",
   "metadata": {},
   "source": [
    "### 19. Use random forests on the training data set to predict income using marital status and capital gains and losses. "
   ]
  },
  {
   "cell_type": "code",
   "execution_count": 136,
   "id": "9d1c91c3",
   "metadata": {},
   "outputs": [],
   "source": [
    "from sklearn.ensemble import RandomForestClassifier\n",
    "from sklearn.metrics import classification_report\n",
    "from sklearn.metrics import confusion_matrix\n",
    "import numpy as np "
   ]
  },
  {
   "cell_type": "code",
   "execution_count": 137,
   "id": "610271f9",
   "metadata": {},
   "outputs": [],
   "source": [
    "#include the response variable formattted as a one dimensional array\n",
    "rfy = np.ravel(y_train_rf)"
   ]
  },
  {
   "cell_type": "code",
   "execution_count": 138,
   "id": "c3b8141a",
   "metadata": {},
   "outputs": [],
   "source": [
    "#use the randomforest classifier to create the randome forest\n",
    "rf_1 = RandomForestClassifier(n_estimators = 100, criterion =\"gini\").fit(X_train, rfy)    "
   ]
  },
  {
   "cell_type": "code",
   "execution_count": 139,
   "id": "7a0bd0d7",
   "metadata": {},
   "outputs": [
    {
     "data": {
      "text/html": [
       "<div>\n",
       "<style scoped>\n",
       "    .dataframe tbody tr th:only-of-type {\n",
       "        vertical-align: middle;\n",
       "    }\n",
       "\n",
       "    .dataframe tbody tr th {\n",
       "        vertical-align: top;\n",
       "    }\n",
       "\n",
       "    .dataframe thead th {\n",
       "        text-align: right;\n",
       "    }\n",
       "</style>\n",
       "<table border=\"1\" class=\"dataframe\">\n",
       "  <thead>\n",
       "    <tr style=\"text-align: right;\">\n",
       "      <th></th>\n",
       "      <th>0</th>\n",
       "      <th>1</th>\n",
       "    </tr>\n",
       "  </thead>\n",
       "  <tbody>\n",
       "    <tr>\n",
       "      <th>0</th>\n",
       "      <td>14237</td>\n",
       "      <td>34</td>\n",
       "    </tr>\n",
       "    <tr>\n",
       "      <th>1</th>\n",
       "      <td>3138</td>\n",
       "      <td>1352</td>\n",
       "    </tr>\n",
       "  </tbody>\n",
       "</table>\n",
       "</div>"
      ],
      "text/plain": [
       "       0     1\n",
       "0  14237    34\n",
       "1   3138  1352"
      ]
     },
     "execution_count": 139,
     "metadata": {},
     "output_type": "execute_result"
    }
   ],
   "source": [
    "#obtain the predictions from the model \n",
    "yrf_predict = rf_1.predict(X_train)\n",
    "\n",
    "#return the confusion matrix for the random forest classifier\n",
    "cm_yrf = pd.DataFrame(confusion_matrix(y_train, yrf_predict))\n",
    "cm_yrf"
   ]
  },
  {
   "cell_type": "code",
   "execution_count": 140,
   "id": "10cb049c",
   "metadata": {},
   "outputs": [
    {
     "name": "stdout",
     "output_type": "stream",
     "text": [
      "              precision    recall  f1-score   support\n",
      "\n",
      "       <=50K       0.82      1.00      0.90     14271\n",
      "        >50K       0.98      0.30      0.46      4490\n",
      "\n",
      "    accuracy                           0.83     18761\n",
      "   macro avg       0.90      0.65      0.68     18761\n",
      "weighted avg       0.86      0.83      0.79     18761\n",
      "\n"
     ]
    }
   ],
   "source": [
    "#obtain the classification report for the training data\n",
    "print(classification_report(y_train, yrf_predict))"
   ]
  },
  {
   "cell_type": "markdown",
   "id": "b30bdde0",
   "metadata": {},
   "source": [
    "### 20. Use random forests using the test data set that utilizes the same target and predictor variables. Does the test data result match the training data result?"
   ]
  },
  {
   "cell_type": "code",
   "execution_count": 141,
   "id": "52a45c92",
   "metadata": {},
   "outputs": [],
   "source": [
    "#import test data\n",
    "test = pd.read_csv(\"/Users/ryan_s_dunn/Documents/USD MS-ADS/Applied Data Mining 502/Module 2/Datasets/adult_ch6_test\", header = 0)"
   ]
  },
  {
   "cell_type": "code",
   "execution_count": 142,
   "id": "4b192dec",
   "metadata": {},
   "outputs": [
    {
     "name": "stderr",
     "output_type": "stream",
     "text": [
      "/Users/ryan_s_dunn/opt/anaconda3/lib/python3.8/site-packages/statsmodels/tools/tools.py:158: FutureWarning: categorical is deprecated. Use pandas Categorical to represent categorical data and can get_dummies to construct dummy arrays. It will be removed after release 0.13.\n",
      "  warnings.warn(\n"
     ]
    }
   ],
   "source": [
    "#identify the target variable in the test data set \n",
    "y_test = test['Income']\n",
    "\n",
    "#convert categorical varialbes to dummy variables because sklearn needs converted categorical variables\n",
    "marital_status_dummy2 = np.array(test['Marital status'])\n",
    "\n",
    "#save matrix and dictionary separately\n",
    "(marital_cat2, marital_cat_dict2) = stattools.categorical(marital_status_dummy2, \n",
    "                                                        drop=True,dictnames=True)\n",
    "\n",
    "#add the dummy variables back into the X varialbes\n",
    "marital_status_pd2 = pd.DataFrame(marital_cat2)\n",
    "\n",
    "#attach the predictor variable Cap_Gains_Losses to the data frame of dummy variables that represent marital status\n",
    "X_test= pd.concat((test[['Cap_Gains_Losses']],\n",
    "                    marital_status_pd2), axis=1)\n",
    "\n",
    "#note that the columns of X and y do not include the different values of the marital status, so we run \n",
    "#martial_cat_dict and assigne the categories to y to see the values of the columns\n",
    "X_names2 = [\"Cap_Gains_Losses\",\"Divorced\",\"Married\",\n",
    "           \"Never-married\",\"Separated\",\"Widowed\"]\n",
    "y_names2 = [\"<=50K\",\">50K\"]"
   ]
  },
  {
   "cell_type": "code",
   "execution_count": 143,
   "id": "2804ef0b",
   "metadata": {},
   "outputs": [
    {
     "name": "stdout",
     "output_type": "stream",
     "text": [
      "Random Forest Confusion Matrix:\n",
      "      0    1\n",
      "0  4668    6\n",
      "1  1034  447\n"
     ]
    }
   ],
   "source": [
    "from sklearn.metrics import plot_confusion_matrix\n",
    "from sklearn.metrics import ConfusionMatrixDisplay\n",
    "\n",
    "#include the response variable formattted as a one dimensional array\n",
    "rfy2 = np.ravel(y_test)\n",
    "\n",
    "#use the randomforest classifier to create the randome forest\n",
    "rf_2 = RandomForestClassifier(n_estimators = 100, criterion =\"gini\").fit(X_test,rfy2)  \n",
    "\n",
    "#obtain the predictions from the model \n",
    "yrf_predict_test = rf_2.predict(X_test)\n",
    "\n",
    "#return the confusion matrix for the random forest classifier\n",
    "cm_yrf = pd.DataFrame(confusion_matrix(y_test, yrf_predict_test))\n",
    "print('Random Forest Confusion Matrix:')\n",
    "print(cm_yrf)\n"
   ]
  },
  {
   "cell_type": "code",
   "execution_count": 144,
   "id": "69350911",
   "metadata": {},
   "outputs": [
    {
     "name": "stdout",
     "output_type": "stream",
     "text": [
      "              precision    recall  f1-score   support\n",
      "\n",
      "       <=50K       0.82      1.00      0.90      4674\n",
      "        >50K       0.99      0.30      0.46      1481\n",
      "\n",
      "    accuracy                           0.83      6155\n",
      "   macro avg       0.90      0.65      0.68      6155\n",
      "weighted avg       0.86      0.83      0.79      6155\n",
      "\n"
     ]
    }
   ],
   "source": [
    "#obtain the classification report for the test data\n",
    "print(classification_report(y_test, yrf_predict_test))"
   ]
  },
  {
   "cell_type": "code",
   "execution_count": 145,
   "id": "a2708c57",
   "metadata": {},
   "outputs": [
    {
     "name": "stdout",
     "output_type": "stream",
     "text": [
      "              precision    recall  f1-score   support\n",
      "\n",
      "       <=50K       0.82      1.00      0.90     14271\n",
      "        >50K       0.98      0.30      0.46      4490\n",
      "\n",
      "    accuracy                           0.83     18761\n",
      "   macro avg       0.90      0.65      0.68     18761\n",
      "weighted avg       0.86      0.83      0.79     18761\n",
      "\n"
     ]
    }
   ],
   "source": [
    "#obtain the classification report for the training data\n",
    "print(classification_report(y_train, yrf_predict))"
   ]
  },
  {
   "cell_type": "markdown",
   "id": "977bab58",
   "metadata": {},
   "source": [
    "##### The test training result does match the test training results. "
   ]
  }
 ],
 "metadata": {
  "kernelspec": {
   "display_name": "Python 3",
   "language": "python",
   "name": "python3"
  },
  "language_info": {
   "codemirror_mode": {
    "name": "ipython",
    "version": 3
   },
   "file_extension": ".py",
   "mimetype": "text/x-python",
   "name": "python",
   "nbconvert_exporter": "python",
   "pygments_lexer": "ipython3",
   "version": "3.8.8"
  }
 },
 "nbformat": 4,
 "nbformat_minor": 5
}
